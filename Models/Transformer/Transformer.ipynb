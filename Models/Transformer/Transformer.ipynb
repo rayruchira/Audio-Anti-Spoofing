{
  "nbformat": 4,
  "nbformat_minor": 0,
  "metadata": {
    "colab": {
      "name": "Transformer.ipynb",
      "provenance": [],
      "collapsed_sections": []
    },
    "kernelspec": {
      "name": "python3",
      "display_name": "Python 3"
    }
  },
  "cells": [
    {
      "cell_type": "code",
      "metadata": {
        "id": "PtbzuQbSYw1_"
      },
      "source": [
        "import keras\n",
        "import pandas as pd\n",
        "from matplotlib import pyplot as plt\n",
        "import numpy as np\n",
        "import gzip\n",
        "%matplotlib inline\n",
        "from keras.models import Model\n",
        "from keras.optimizers import RMSprop\n",
        "from keras.layers import Input,Dense,Flatten,Dropout,merge,Reshape,Conv2D,MaxPooling2D,UpSampling2D,Conv2DTranspose,LeakyReLU\n",
        "from keras.layers.normalization import BatchNormalization\n",
        "from keras.models import Model,Sequential\n",
        "from keras.callbacks import ModelCheckpoint\n",
        "from keras.optimizers import Adadelta, RMSprop,SGD,Adam\n",
        "from keras import regularizers\n",
        "from keras import backend as K\n",
        "from keras.utils import to_categorical\n",
        "from tensorflow.python.keras.layers.core import Activation, Dense\n",
        "from sklearn.model_selection import train_test_split\n",
        "\n",
        "from sklearn.preprocessing import StandardScaler\n",
        "from sklearn.model_selection import train_test_split\n",
        "from sklearn.metrics import confusion_matrix, precision_recall_curve\n",
        "from sklearn.metrics import recall_score, classification_report, auc, roc_curve\n",
        "from sklearn.metrics import precision_recall_fscore_support, f1_score"
      ],
      "execution_count": null,
      "outputs": []
    },
    {
      "cell_type": "code",
      "metadata": {
        "id": "-gnf0ib_wIvg"
      },
      "source": [
        "def encoder(input):\n",
        "    #encoder\n",
        "    #input = 28 x 28 x 1 (wide and thin)\n",
        "    conv1 = Conv2D(32, (3, 3), activation='relu', padding='same')(input) #28 x 28 x 32\n",
        "    conv1 = BatchNormalization()(conv1)\n",
        "    conv1 = LeakyReLU()(conv1)\n",
        "    conv1 = Conv2D(32, (3, 3), activation='relu', padding='same')(conv1)\n",
        "    conv1 = BatchNormalization()(conv1)\n",
        "    pool1 = MaxPooling2D(pool_size=(2, 2))(conv1) #14 x 14 x 32\n",
        "    conv2 = Conv2D(64, (3, 3), activation='relu', padding='same')(pool1) #14 x 14 x 64\n",
        "    conv2 = BatchNormalization()(conv2)\n",
        "    conv2 = Conv2D(64, (3, 3), activation='relu', padding='same')(conv2)\n",
        "    conv2 = BatchNormalization()(conv2)\n",
        "    pool2 = MaxPooling2D(pool_size=(2, 2))(conv2) #7 x 7 x 64\n",
        "    conv3 = Conv2D(128, (3, 3), activation='relu', padding='same')(pool2) #7 x 7 x 128 (small and thick)\n",
        "    conv3 = BatchNormalization()(conv3)\n",
        "    conv3 = Conv2D(128, (3, 3), activation='relu', padding='same')(conv3)\n",
        "    conv3 = BatchNormalization()(conv3)\n",
        "    conv4 = Conv2D(256, (3, 3), activation='relu', padding='same')(conv3) #7 x 7 x 256 (small and thick)\n",
        "    conv4 = BatchNormalization()(conv4)\n",
        "    conv4 = Conv2D(256, (3, 3), activation='relu', padding='same')(conv4)\n",
        "    conv4 = BatchNormalization()(conv4)\n",
        "    return conv4\n",
        "\n",
        "def decoder(conv4):    \n",
        "    #decoder\n",
        "    conv5 = Conv2D(128, (3, 3), activation='relu', padding='same')(conv4) #7 x 7 x 128\n",
        "    conv5 = BatchNormalization()(conv5)\n",
        "    conv5 = Conv2D(128, (3, 3), activation='relu', padding='same')(conv5)\n",
        "    conv5 = BatchNormalization()(conv5)\n",
        "    conv6 = Conv2D(64, (3, 3), activation='relu', padding='same')(conv5) #7 x 7 x 64\n",
        "    conv6 = BatchNormalization()(conv6)\n",
        "    conv6 = Conv2D(64, (3, 3), activation='relu', padding='same')(conv6)\n",
        "    conv6 = BatchNormalization()(conv6)\n",
        "    up1 = UpSampling2D((2,2))(conv6) #14 x 14 x 64\n",
        "    conv7 = Conv2D(32, (3, 3), activation='relu', padding='same')(up1) # 14 x 14 x 32\n",
        "    conv7 = BatchNormalization()(conv7)\n",
        "    conv7 = Conv2D(32, (3, 3), activation='relu', padding='same')(conv7)\n",
        "    conv7 = BatchNormalization()(conv7)\n",
        "    up2 = UpSampling2D((2,2))(conv7) # 28 x 28 x 32\n",
        "    decoded = Conv2D(1, (3, 3), activation='sigmoid', padding='same')(up2) # 28 x 28 x 1\n",
        "    return decoded"
      ],
      "execution_count": null,
      "outputs": []
    },
    {
      "cell_type": "code",
      "metadata": {
        "id": "zfgulYG-Y__P"
      },
      "source": [
        ""
      ],
      "execution_count": null,
      "outputs": []
    },
    {
      "cell_type": "code",
      "metadata": {
        "colab": {
          "base_uri": "https://localhost:8080/"
        },
        "id": "a2M4DXEEZEBd",
        "outputId": "f8e544a4-2395-4ea4-cd19-6290e8a3b45d"
      },
      "source": [
        "from google.colab import drive\n",
        "drive.mount('/content/drive')"
      ],
      "execution_count": null,
      "outputs": [
        {
          "output_type": "stream",
          "text": [
            "Mounted at /content/drive\n"
          ],
          "name": "stdout"
        }
      ]
    },
    {
      "cell_type": "code",
      "metadata": {
        "id": "yFJdN0z5JLfO"
      },
      "source": [
        "input_shape = (64, 64, 2)\n",
        "model=Sequential()\n",
        "\n",
        "model.add(Conv2D(32,(4,4), padding='same',strides=(2,2),input_shape=input_shape))\n",
        "model.add(BatchNormalization())\n",
        "model.add(LeakyReLU(alpha=0.2))\n",
        "\n",
        "\n",
        "model.add(Conv2D(64,(4,4), padding='same',strides=(2,2)))\n",
        "model.add(BatchNormalization())\n",
        "model.add(LeakyReLU(alpha=0.2))\n",
        "\n",
        "\n",
        "model.add(Conv2D(128,(4,4), padding='same',strides=(2,2)))\n",
        "model.add(BatchNormalization())\n",
        "model.add(LeakyReLU(alpha=0.2))\n",
        "\n",
        "\n",
        "model.add(Conv2D(256,(4,4), padding='same',strides=(2,2)))\n",
        "model.add(BatchNormalization())\n",
        "model.add(LeakyReLU(alpha=0.2))\n",
        "\n",
        "model.add(Conv2D(512,(4,4), padding='same',strides=(2,2)))\n",
        "model.add(BatchNormalization())\n",
        "model.add(LeakyReLU(alpha=0.2))\n",
        "\n",
        "\n",
        "\n",
        "model.add(Conv2DTranspose(256,(4,4),strides=(2,2),padding='same'))\n",
        "model.add(BatchNormalization())\n",
        "model.add(LeakyReLU(alpha=0.2))\n",
        "\n",
        "model.add(Conv2DTranspose(128,(4,4),strides=(2,2),padding='same'))\n",
        "model.add(BatchNormalization())\n",
        "model.add(LeakyReLU(alpha=0.2))\n",
        "\n",
        "model.add(Conv2DTranspose(64,(4,4),strides=(2,2),padding='same'))\n",
        "model.add(BatchNormalization())\n",
        "model.add(LeakyReLU(alpha=0.2))\n",
        "\n",
        "model.add(Conv2DTranspose(32,(4,4),strides=(2,2),padding='same'))\n",
        "model.add(BatchNormalization())\n",
        "model.add(LeakyReLU(alpha=0.2))\n",
        "\n",
        "model.add(Conv2DTranspose(2,(4,4),strides=(2,2),padding='same'))\n",
        "\n",
        "\n"
      ],
      "execution_count": null,
      "outputs": []
    },
    {
      "cell_type": "code",
      "metadata": {
        "id": "8xc5umi9JRKw"
      },
      "source": [
        "model.compile(metrics=['accuracy'],\n",
        "                    loss='mean_squared_error',\n",
        "                    optimizer='adam')"
      ],
      "execution_count": null,
      "outputs": []
    },
    {
      "cell_type": "code",
      "metadata": {
        "id": "84NWqw9laAf1"
      },
      "source": [
        "pdata = np.load('/content/drive/MyDrive/Samsung PRISM/processed/bonafide.npz',allow_pickle=True)\n",
        "ndata = np.load('/content/drive/MyDrive/Samsung PRISM/processed/spoof.npz',allow_pickle=True)"
      ],
      "execution_count": null,
      "outputs": []
    },
    {
      "cell_type": "code",
      "metadata": {
        "id": "bfinb9WWa93V"
      },
      "source": [
        "pdata['features']"
      ],
      "execution_count": null,
      "outputs": []
    },
    {
      "cell_type": "code",
      "metadata": {
        "id": "7ApTQxnrAvRh"
      },
      "source": [
        "bonafide_features=np.concatenate(pdata['features'],axis=0)\n",
        "spoof_features=np.concatenate(ndata['features'], axis=0)"
      ],
      "execution_count": null,
      "outputs": []
    },
    {
      "cell_type": "code",
      "metadata": {
        "colab": {
          "base_uri": "https://localhost:8080/"
        },
        "id": "Hu86tm0wBUKe",
        "outputId": "d245188b-b493-48bb-878d-4714657a37c2"
      },
      "source": [
        "pdata['features'].shape"
      ],
      "execution_count": null,
      "outputs": [
        {
          "output_type": "execute_result",
          "data": {
            "text/plain": [
              "(200,)"
            ]
          },
          "metadata": {
            "tags": []
          },
          "execution_count": 7
        }
      ]
    },
    {
      "cell_type": "code",
      "metadata": {
        "colab": {
          "base_uri": "https://localhost:8080/"
        },
        "id": "wxzdi1tLBKw8",
        "outputId": "04e22685-f468-4306-9b7e-cbe75007c957"
      },
      "source": [
        "np.shape(bonafide_features)"
      ],
      "execution_count": null,
      "outputs": [
        {
          "output_type": "execute_result",
          "data": {
            "text/plain": [
              "(765, 64, 64, 2)"
            ]
          },
          "metadata": {
            "tags": []
          },
          "execution_count": 17
        }
      ]
    },
    {
      "cell_type": "code",
      "metadata": {
        "id": "LDtgCGRTW5a5"
      },
      "source": [
        "x=[]\n",
        "y=[]\n",
        "features = np.concatenate(pdata[\"features\"], axis=0)\n",
        "labels = np.concatenate(pdata[\"labels\"], axis=0)\n",
        "x.extend(features)\n",
        "y.extend(labels)\n",
        "features = np.concatenate(ndata[\"features\"], axis=0)\n",
        "labels = np.concatenate(ndata[\"labels\"], axis=0)\n",
        "x.extend(features)\n",
        "y.extend(labels)"
      ],
      "execution_count": null,
      "outputs": []
    },
    {
      "cell_type": "code",
      "metadata": {
        "id": "GShl5a4oXYiK"
      },
      "source": [
        "X_train, X_test, y_train, y_test = train_test_split(x, y)\n",
        "X_train=np.array(X_train)\n",
        "X_test=np.array(X_test)\n",
        "y_train=np.array(y_train)\n",
        "y_test=np.array(y_test)"
      ],
      "execution_count": null,
      "outputs": []
    },
    {
      "cell_type": "code",
      "metadata": {
        "colab": {
          "base_uri": "https://localhost:8080/"
        },
        "id": "Uyjmdt1ofllR",
        "outputId": "7067973b-ddd8-45b1-a7c4-39e4740da883"
      },
      "source": [
        "model.summary()"
      ],
      "execution_count": null,
      "outputs": [
        {
          "output_type": "stream",
          "text": [
            "Model: \"sequential_1\"\n",
            "_________________________________________________________________\n",
            "Layer (type)                 Output Shape              Param #   \n",
            "=================================================================\n",
            "conv2d_5 (Conv2D)            (None, 32, 32, 32)        1056      \n",
            "_________________________________________________________________\n",
            "batch_normalization_9 (Batch (None, 32, 32, 32)        128       \n",
            "_________________________________________________________________\n",
            "leaky_re_lu_9 (LeakyReLU)    (None, 32, 32, 32)        0         \n",
            "_________________________________________________________________\n",
            "conv2d_6 (Conv2D)            (None, 16, 16, 64)        32832     \n",
            "_________________________________________________________________\n",
            "batch_normalization_10 (Batc (None, 16, 16, 64)        256       \n",
            "_________________________________________________________________\n",
            "leaky_re_lu_10 (LeakyReLU)   (None, 16, 16, 64)        0         \n",
            "_________________________________________________________________\n",
            "conv2d_7 (Conv2D)            (None, 8, 8, 128)         131200    \n",
            "_________________________________________________________________\n",
            "batch_normalization_11 (Batc (None, 8, 8, 128)         512       \n",
            "_________________________________________________________________\n",
            "leaky_re_lu_11 (LeakyReLU)   (None, 8, 8, 128)         0         \n",
            "_________________________________________________________________\n",
            "conv2d_8 (Conv2D)            (None, 4, 4, 256)         524544    \n",
            "_________________________________________________________________\n",
            "batch_normalization_12 (Batc (None, 4, 4, 256)         1024      \n",
            "_________________________________________________________________\n",
            "leaky_re_lu_12 (LeakyReLU)   (None, 4, 4, 256)         0         \n",
            "_________________________________________________________________\n",
            "conv2d_9 (Conv2D)            (None, 2, 2, 512)         2097664   \n",
            "_________________________________________________________________\n",
            "batch_normalization_13 (Batc (None, 2, 2, 512)         2048      \n",
            "_________________________________________________________________\n",
            "leaky_re_lu_13 (LeakyReLU)   (None, 2, 2, 512)         0         \n",
            "_________________________________________________________________\n",
            "conv2d_transpose_5 (Conv2DTr (None, 4, 4, 256)         2097408   \n",
            "_________________________________________________________________\n",
            "batch_normalization_14 (Batc (None, 4, 4, 256)         1024      \n",
            "_________________________________________________________________\n",
            "leaky_re_lu_14 (LeakyReLU)   (None, 4, 4, 256)         0         \n",
            "_________________________________________________________________\n",
            "conv2d_transpose_6 (Conv2DTr (None, 8, 8, 128)         524416    \n",
            "_________________________________________________________________\n",
            "batch_normalization_15 (Batc (None, 8, 8, 128)         512       \n",
            "_________________________________________________________________\n",
            "leaky_re_lu_15 (LeakyReLU)   (None, 8, 8, 128)         0         \n",
            "_________________________________________________________________\n",
            "conv2d_transpose_7 (Conv2DTr (None, 16, 16, 64)        131136    \n",
            "_________________________________________________________________\n",
            "batch_normalization_16 (Batc (None, 16, 16, 64)        256       \n",
            "_________________________________________________________________\n",
            "leaky_re_lu_16 (LeakyReLU)   (None, 16, 16, 64)        0         \n",
            "_________________________________________________________________\n",
            "conv2d_transpose_8 (Conv2DTr (None, 32, 32, 32)        32800     \n",
            "_________________________________________________________________\n",
            "batch_normalization_17 (Batc (None, 32, 32, 32)        128       \n",
            "_________________________________________________________________\n",
            "leaky_re_lu_17 (LeakyReLU)   (None, 32, 32, 32)        0         \n",
            "_________________________________________________________________\n",
            "conv2d_transpose_9 (Conv2DTr (None, 64, 64, 2)         1026      \n",
            "=================================================================\n",
            "Total params: 5,579,970\n",
            "Trainable params: 5,577,026\n",
            "Non-trainable params: 2,944\n",
            "_________________________________________________________________\n"
          ],
          "name": "stdout"
        }
      ]
    },
    {
      "cell_type": "code",
      "metadata": {
        "colab": {
          "base_uri": "https://localhost:8080/"
        },
        "id": "PVi1WBKsbOf5",
        "outputId": "f0b66cca-d919-4770-84bd-5c2a6d968775"
      },
      "source": [
        "np.shape(x)"
      ],
      "execution_count": null,
      "outputs": [
        {
          "output_type": "execute_result",
          "data": {
            "text/plain": [
              "(1259, 64, 64, 2)"
            ]
          },
          "metadata": {
            "tags": []
          },
          "execution_count": 12
        }
      ]
    },
    {
      "cell_type": "code",
      "metadata": {
        "colab": {
          "base_uri": "https://localhost:8080/"
        },
        "id": "OAEzDLHaNOZZ",
        "outputId": "75c2fab9-1f46-40a3-f692-f9d629e3d5ab"
      },
      "source": [
        "model.fit(bonafide_features,bonafide_features,batch_size=32,epochs=30,verbose=1,validation_split=0.2)"
      ],
      "execution_count": null,
      "outputs": [
        {
          "output_type": "stream",
          "text": [
            "Epoch 1/30\n",
            "20/20 [==============================] - 19s 904ms/step - loss: 648.3892 - accuracy: 0.3743 - val_loss: 48898.3281 - val_accuracy: 0.8908\n",
            "Epoch 2/30\n",
            "20/20 [==============================] - 18s 878ms/step - loss: 711.4634 - accuracy: 0.4301 - val_loss: 34104.1172 - val_accuracy: 0.8716\n",
            "Epoch 3/30\n",
            "20/20 [==============================] - 18s 877ms/step - loss: 552.1252 - accuracy: 0.4250 - val_loss: 18991.9355 - val_accuracy: 0.8171\n",
            "Epoch 4/30\n",
            "20/20 [==============================] - 18s 884ms/step - loss: 510.5612 - accuracy: 0.4458 - val_loss: 11938.6826 - val_accuracy: 0.8163\n",
            "Epoch 5/30\n",
            "20/20 [==============================] - 18s 883ms/step - loss: 468.2244 - accuracy: 0.4315 - val_loss: 6887.7500 - val_accuracy: 0.7031\n",
            "Epoch 6/30\n",
            "20/20 [==============================] - 18s 892ms/step - loss: 422.5964 - accuracy: 0.5069 - val_loss: 11938.0156 - val_accuracy: 0.7768\n",
            "Epoch 7/30\n",
            "20/20 [==============================] - 18s 878ms/step - loss: 376.6057 - accuracy: 0.4799 - val_loss: 6556.3823 - val_accuracy: 0.7508\n",
            "Epoch 8/30\n",
            "20/20 [==============================] - 18s 880ms/step - loss: 321.3713 - accuracy: 0.5622 - val_loss: 2358.2322 - val_accuracy: 0.7338\n",
            "Epoch 9/30\n",
            "20/20 [==============================] - 18s 880ms/step - loss: 272.2465 - accuracy: 0.5881 - val_loss: 2075.4473 - val_accuracy: 0.6325\n",
            "Epoch 10/30\n",
            "20/20 [==============================] - 18s 880ms/step - loss: 233.5278 - accuracy: 0.6333 - val_loss: 964.1992 - val_accuracy: 0.6011\n",
            "Epoch 11/30\n",
            "20/20 [==============================] - 18s 880ms/step - loss: 214.0288 - accuracy: 0.6536 - val_loss: 472.1090 - val_accuracy: 0.5866\n",
            "Epoch 12/30\n",
            "20/20 [==============================] - 18s 887ms/step - loss: 212.1117 - accuracy: 0.6536 - val_loss: 879.7803 - val_accuracy: 0.5434\n",
            "Epoch 13/30\n",
            "20/20 [==============================] - 18s 887ms/step - loss: 193.9962 - accuracy: 0.6829 - val_loss: 744.5657 - val_accuracy: 0.2185\n",
            "Epoch 14/30\n",
            "20/20 [==============================] - 18s 886ms/step - loss: 145.1910 - accuracy: 0.7649 - val_loss: 420.1669 - val_accuracy: 0.6969\n",
            "Epoch 15/30\n",
            "20/20 [==============================] - 18s 884ms/step - loss: 156.4609 - accuracy: 0.7378 - val_loss: 205.8787 - val_accuracy: 0.6588\n",
            "Epoch 16/30\n",
            "20/20 [==============================] - 18s 891ms/step - loss: 159.8525 - accuracy: 0.7655 - val_loss: 235.7873 - val_accuracy: 0.6262\n",
            "Epoch 17/30\n",
            "20/20 [==============================] - 18s 886ms/step - loss: 105.9451 - accuracy: 0.8151 - val_loss: 186.4991 - val_accuracy: 0.5715\n",
            "Epoch 18/30\n",
            "20/20 [==============================] - 18s 885ms/step - loss: 105.5199 - accuracy: 0.8468 - val_loss: 106.9190 - val_accuracy: 0.7625\n",
            "Epoch 19/30\n",
            "20/20 [==============================] - 18s 881ms/step - loss: 102.4073 - accuracy: 0.8501 - val_loss: 133.8603 - val_accuracy: 0.8184\n",
            "Epoch 20/30\n",
            "20/20 [==============================] - 18s 883ms/step - loss: 81.2402 - accuracy: 0.8960 - val_loss: 99.4470 - val_accuracy: 0.8558\n",
            "Epoch 21/30\n",
            "20/20 [==============================] - 18s 885ms/step - loss: 83.3535 - accuracy: 0.9023 - val_loss: 92.9135 - val_accuracy: 0.8635\n",
            "Epoch 22/30\n",
            "20/20 [==============================] - 18s 883ms/step - loss: 78.4954 - accuracy: 0.9111 - val_loss: 82.4490 - val_accuracy: 0.8961\n",
            "Epoch 23/30\n",
            "20/20 [==============================] - 18s 887ms/step - loss: 73.6356 - accuracy: 0.9113 - val_loss: 87.0490 - val_accuracy: 0.8737\n",
            "Epoch 24/30\n",
            "20/20 [==============================] - 18s 885ms/step - loss: 65.0018 - accuracy: 0.9192 - val_loss: 77.3665 - val_accuracy: 0.8930\n",
            "Epoch 25/30\n",
            "20/20 [==============================] - 18s 884ms/step - loss: 60.4886 - accuracy: 0.9233 - val_loss: 77.3847 - val_accuracy: 0.8899\n",
            "Epoch 26/30\n",
            "20/20 [==============================] - 18s 891ms/step - loss: 58.5472 - accuracy: 0.9248 - val_loss: 73.3367 - val_accuracy: 0.9128\n",
            "Epoch 27/30\n",
            "20/20 [==============================] - 18s 887ms/step - loss: 57.6438 - accuracy: 0.9256 - val_loss: 62.8139 - val_accuracy: 0.9092\n",
            "Epoch 28/30\n",
            "20/20 [==============================] - 18s 891ms/step - loss: 57.9923 - accuracy: 0.9276 - val_loss: 60.1989 - val_accuracy: 0.9170\n",
            "Epoch 29/30\n",
            "20/20 [==============================] - 18s 890ms/step - loss: 52.8930 - accuracy: 0.9283 - val_loss: 59.1947 - val_accuracy: 0.9165\n",
            "Epoch 30/30\n",
            "20/20 [==============================] - 18s 890ms/step - loss: 50.0640 - accuracy: 0.9291 - val_loss: 95.7572 - val_accuracy: 0.9085\n"
          ],
          "name": "stdout"
        },
        {
          "output_type": "execute_result",
          "data": {
            "text/plain": [
              "<tensorflow.python.keras.callbacks.History at 0x7fbd168e4860>"
            ]
          },
          "metadata": {
            "tags": []
          },
          "execution_count": 9
        }
      ]
    },
    {
      "cell_type": "code",
      "metadata": {
        "colab": {
          "base_uri": "https://localhost:8080/"
        },
        "id": "d05l7OJ4NVTa",
        "outputId": "f457aae6-a0e3-42c8-ff5e-4d090fad5ab5"
      },
      "source": [
        "model.fit(bonafide_features,bonafide_features,batch_size=32,epochs=30,verbose=1,validation_split=0.2)"
      ],
      "execution_count": null,
      "outputs": [
        {
          "output_type": "stream",
          "text": [
            "Epoch 1/30\n",
            "20/20 [==============================] - 17s 859ms/step - loss: 8.8800 - accuracy: 0.9777 - val_loss: 25.8176 - val_accuracy: 0.9483\n",
            "Epoch 2/30\n",
            "20/20 [==============================] - 17s 858ms/step - loss: 9.6521 - accuracy: 0.9777 - val_loss: 25.5648 - val_accuracy: 0.9491\n",
            "Epoch 3/30\n",
            "20/20 [==============================] - 17s 853ms/step - loss: 7.7825 - accuracy: 0.9783 - val_loss: 28.0651 - val_accuracy: 0.9488\n",
            "Epoch 4/30\n",
            "20/20 [==============================] - 17s 854ms/step - loss: 7.5988 - accuracy: 0.9785 - val_loss: 27.2364 - val_accuracy: 0.9488\n",
            "Epoch 5/30\n",
            "20/20 [==============================] - 17s 856ms/step - loss: 7.6372 - accuracy: 0.9785 - val_loss: 25.4379 - val_accuracy: 0.9491\n",
            "Epoch 6/30\n",
            "20/20 [==============================] - 17s 854ms/step - loss: 7.8169 - accuracy: 0.9787 - val_loss: 25.6181 - val_accuracy: 0.9487\n",
            "Epoch 7/30\n",
            "20/20 [==============================] - 17s 854ms/step - loss: 8.0964 - accuracy: 0.9787 - val_loss: 25.7125 - val_accuracy: 0.9484\n",
            "Epoch 8/30\n",
            "20/20 [==============================] - 17s 854ms/step - loss: 8.0507 - accuracy: 0.9780 - val_loss: 25.4421 - val_accuracy: 0.9483\n",
            "Epoch 9/30\n",
            "20/20 [==============================] - 17s 855ms/step - loss: 8.9193 - accuracy: 0.9781 - val_loss: 25.0900 - val_accuracy: 0.9492\n",
            "Epoch 10/30\n",
            "20/20 [==============================] - 17s 854ms/step - loss: 7.6333 - accuracy: 0.9786 - val_loss: 25.7590 - val_accuracy: 0.9486\n",
            "Epoch 11/30\n",
            "20/20 [==============================] - 17s 856ms/step - loss: 8.5429 - accuracy: 0.9790 - val_loss: 25.7257 - val_accuracy: 0.9485\n",
            "Epoch 12/30\n",
            "20/20 [==============================] - 17s 856ms/step - loss: 7.5215 - accuracy: 0.9787 - val_loss: 26.0588 - val_accuracy: 0.9492\n",
            "Epoch 13/30\n",
            "20/20 [==============================] - 17s 857ms/step - loss: 9.6047 - accuracy: 0.9789 - val_loss: 26.0950 - val_accuracy: 0.9494\n",
            "Epoch 14/30\n",
            "20/20 [==============================] - 17s 857ms/step - loss: 7.1931 - accuracy: 0.9791 - val_loss: 24.9605 - val_accuracy: 0.9490\n",
            "Epoch 15/30\n",
            "20/20 [==============================] - 17s 852ms/step - loss: 7.6459 - accuracy: 0.9792 - val_loss: 25.0760 - val_accuracy: 0.9487\n",
            "Epoch 16/30\n",
            "20/20 [==============================] - 17s 858ms/step - loss: 7.5490 - accuracy: 0.9791 - val_loss: 25.5536 - val_accuracy: 0.9489\n",
            "Epoch 17/30\n",
            "20/20 [==============================] - 17s 853ms/step - loss: 8.1324 - accuracy: 0.9786 - val_loss: 25.5753 - val_accuracy: 0.9493\n",
            "Epoch 18/30\n",
            "20/20 [==============================] - 17s 858ms/step - loss: 7.5664 - accuracy: 0.9791 - val_loss: 28.6446 - val_accuracy: 0.9495\n",
            "Epoch 19/30\n",
            "20/20 [==============================] - 17s 861ms/step - loss: 7.5963 - accuracy: 0.9794 - val_loss: 26.4666 - val_accuracy: 0.9490\n",
            "Epoch 20/30\n",
            "20/20 [==============================] - 17s 858ms/step - loss: 7.2743 - accuracy: 0.9792 - val_loss: 25.2060 - val_accuracy: 0.9489\n",
            "Epoch 21/30\n",
            "20/20 [==============================] - 17s 853ms/step - loss: 7.6044 - accuracy: 0.9788 - val_loss: 25.3852 - val_accuracy: 0.9492\n",
            "Epoch 22/30\n",
            "20/20 [==============================] - 17s 856ms/step - loss: 7.0217 - accuracy: 0.9791 - val_loss: 25.2037 - val_accuracy: 0.9493\n",
            "Epoch 23/30\n",
            "20/20 [==============================] - 17s 857ms/step - loss: 7.2176 - accuracy: 0.9793 - val_loss: 25.4529 - val_accuracy: 0.9493\n",
            "Epoch 24/30\n",
            "20/20 [==============================] - 17s 852ms/step - loss: 8.2193 - accuracy: 0.9792 - val_loss: 25.5128 - val_accuracy: 0.9491\n",
            "Epoch 25/30\n",
            "20/20 [==============================] - 17s 859ms/step - loss: 7.0822 - accuracy: 0.9799 - val_loss: 24.5737 - val_accuracy: 0.9492\n",
            "Epoch 26/30\n",
            "20/20 [==============================] - 17s 860ms/step - loss: 7.2401 - accuracy: 0.9794 - val_loss: 26.7569 - val_accuracy: 0.9496\n",
            "Epoch 27/30\n",
            "20/20 [==============================] - 17s 857ms/step - loss: 7.4127 - accuracy: 0.9793 - val_loss: 26.2479 - val_accuracy: 0.9489\n",
            "Epoch 28/30\n",
            "20/20 [==============================] - 17s 854ms/step - loss: 6.9706 - accuracy: 0.9800 - val_loss: 25.7025 - val_accuracy: 0.9486\n",
            "Epoch 29/30\n",
            "20/20 [==============================] - 17s 854ms/step - loss: 7.0211 - accuracy: 0.9797 - val_loss: 26.1519 - val_accuracy: 0.9492\n",
            "Epoch 30/30\n",
            "20/20 [==============================] - 17s 855ms/step - loss: 7.4779 - accuracy: 0.9793 - val_loss: 24.9220 - val_accuracy: 0.9491\n"
          ],
          "name": "stdout"
        },
        {
          "output_type": "execute_result",
          "data": {
            "text/plain": [
              "<tensorflow.python.keras.callbacks.History at 0x7fbd13ee6be0>"
            ]
          },
          "metadata": {
            "tags": []
          },
          "execution_count": 20
        }
      ]
    },
    {
      "cell_type": "code",
      "metadata": {
        "id": "x_POW_H7jI5s"
      },
      "source": [
        "model.save('/content/drive/MyDrive/Samsung PRISM/model.h5')"
      ],
      "execution_count": null,
      "outputs": []
    },
    {
      "cell_type": "code",
      "metadata": {
        "id": "5PGOJh3gq7zJ"
      },
      "source": [
        "model=keras.models.load_model('/content/drive/MyDrive/Samsung PRISM/model.h5')"
      ],
      "execution_count": null,
      "outputs": []
    },
    {
      "cell_type": "code",
      "metadata": {
        "id": "f1nLbqR5saLJ"
      },
      "source": [
        ""
      ],
      "execution_count": null,
      "outputs": []
    },
    {
      "cell_type": "code",
      "metadata": {
        "id": "rlX7345-aDpD"
      },
      "source": [
        "y_test=np.reshape(y_test, (-1, 1))\n",
        "y_test=y_test[:,0]"
      ],
      "execution_count": null,
      "outputs": []
    },
    {
      "cell_type": "code",
      "metadata": {
        "id": "V56DZZi8AvrF",
        "colab": {
          "base_uri": "https://localhost:8080/",
          "height": 162
        },
        "outputId": "e65f2fdc-0013-4079-a8f6-116aace770d4"
      },
      "source": [
        "X_test"
      ],
      "execution_count": null,
      "outputs": [
        {
          "output_type": "error",
          "ename": "NameError",
          "evalue": "ignored",
          "traceback": [
            "\u001b[0;31m---------------------------------------------------------------------------\u001b[0m",
            "\u001b[0;31mNameError\u001b[0m                                 Traceback (most recent call last)",
            "\u001b[0;32m<ipython-input-20-0c1cdefd54ea>\u001b[0m in \u001b[0;36m<module>\u001b[0;34m()\u001b[0m\n\u001b[0;32m----> 1\u001b[0;31m \u001b[0mX_test\u001b[0m\u001b[0;34m\u001b[0m\u001b[0;34m\u001b[0m\u001b[0m\n\u001b[0m",
            "\u001b[0;31mNameError\u001b[0m: name 'X_test' is not defined"
          ]
        }
      ]
    },
    {
      "cell_type": "code",
      "metadata": {
        "id": "JgyK0D1j4JFU"
      },
      "source": [
        "valid_x_predictions = model.predict(X_test)\n",
        "mse=[]\n",
        "for i in range(len(X_test)):\n",
        "  mse.append(np.mean((X_test[i]-valid_x_predictions[i])**2))\n",
        "  #mse.append(np.linalg.norm(np.ravel(X_test[i])-np.ravel(valid_x_predictions[i])))\n",
        "  #error_df = pd.DataFrame({'Reconstruction_error':mse[i],'True_class':y_test[i]})"
      ],
      "execution_count": null,
      "outputs": []
    },
    {
      "cell_type": "code",
      "metadata": {
        "colab": {
          "base_uri": "https://localhost:8080/"
        },
        "id": "YAb47vlWwco0",
        "outputId": "be976b95-bc85-43e5-c64e-333bc67ba8d7"
      },
      "source": [
        "mse"
      ],
      "execution_count": null,
      "outputs": [
        {
          "output_type": "execute_result",
          "data": {
            "text/plain": [
              "[4.961312943659171,\n",
              " 4.13468546283893,\n",
              " 1.7302751914901235,\n",
              " 7.160579624121658,\n",
              " 7.6248070117362,\n",
              " 6.554367049738162,\n",
              " 7.00630917991392,\n",
              " 8.3783157969185,\n",
              " 8.052326666774174,\n",
              " 5.15046423351598,\n",
              " 19.219353779773837,\n",
              " 33.314384707882624,\n",
              " 23.516730730827106,\n",
              " 3.78566134643986,\n",
              " 31.28432260330638,\n",
              " 26.23462517972886,\n",
              " 5.0438342619553485,\n",
              " 27.065461645034304,\n",
              " 34.850038992329566,\n",
              " 30.648190147754907,\n",
              " 38.453403029015575,\n",
              " 9.120220024311841,\n",
              " 27.63631270387804,\n",
              " 27.968034914843734,\n",
              " 34.579336105378275,\n",
              " 23.166289608716625,\n",
              " 3.5871350427622106,\n",
              " 43.94953579081235,\n",
              " 8.899188226548283,\n",
              " 29.3013015102423,\n",
              " 19.18328544944599,\n",
              " 30.48573891665388,\n",
              " 35.24174315668064,\n",
              " 2.6793672480494495,\n",
              " 17.14031770553355,\n",
              " 6.167272279097038,\n",
              " 5.800398353066465,\n",
              " 21.36057809189726,\n",
              " 34.75836946917573,\n",
              " 30.799566037229148,\n",
              " 8.28518706238189,\n",
              " 4.709060680696896,\n",
              " 32.34274927054401,\n",
              " 19.890025942185908,\n",
              " 20.742216115277643,\n",
              " 25.645744375884874,\n",
              " 35.24671986830779,\n",
              " 2.202965596239384,\n",
              " 41.38211379113227,\n",
              " 5.166847690017297,\n",
              " 21.65091478746645,\n",
              " 7.839235475615585,\n",
              " 5.045452026241968,\n",
              " 8.667100040841042,\n",
              " 10.228576850679588,\n",
              " 6.381966215156519,\n",
              " 30.318573605086307,\n",
              " 41.12166676186382,\n",
              " 20.74542224031918,\n",
              " 5.429334870379194,\n",
              " 25.782135936569524,\n",
              " 8.12675824315621,\n",
              " 8.264300437691814,\n",
              " 31.15756131941093,\n",
              " 35.85057249949607,\n",
              " 7.463682680652528,\n",
              " 4.165633744997097,\n",
              " 34.29816224867753,\n",
              " 5.236357564764815,\n",
              " 3.1117962915005863,\n",
              " 45.542797597483556,\n",
              " 3.8745371983011396,\n",
              " 16.948017936724696,\n",
              " 9.036533417511759,\n",
              " 24.116942469986014,\n",
              " 2.7845999927164016,\n",
              " 28.37953250096929,\n",
              " 3.474038409923139,\n",
              " 37.87440037504247,\n",
              " 14.840946541482062,\n",
              " 2.6432491268286955,\n",
              " 31.104180526191886,\n",
              " 5.597300778966788,\n",
              " 3.7537616235345332,\n",
              " 2.6345780044901552,\n",
              " 30.618297562787156,\n",
              " 6.47388497408404,\n",
              " 1.7661116789092715,\n",
              " 27.75216154799825,\n",
              " 1.7082442354966543,\n",
              " 3.8055495301792215,\n",
              " 35.23595288413331,\n",
              " 9.958710468620549,\n",
              " 7.251545263147252,\n",
              " 5.614574970526402,\n",
              " 26.74242983517004,\n",
              " 30.60175582176995,\n",
              " 26.727528122657525,\n",
              " 7.621273589365588,\n",
              " 3.1231985479172435,\n",
              " 7.842180239621474,\n",
              " 29.478952364196473,\n",
              " 22.258254560641717,\n",
              " 6.697971296224762,\n",
              " 1.7525094361967202,\n",
              " 23.35508831274771,\n",
              " 5.32692003219244,\n",
              " 31.775954444921087,\n",
              " 10.623658588130173,\n",
              " 6.656693718844075,\n",
              " 2.988388419908453,\n",
              " 3.827079903869806,\n",
              " 44.982151937098266,\n",
              " 27.071040915821378,\n",
              " 5.843446474404624,\n",
              " 44.87921935313232,\n",
              " 8.740126986409273,\n",
              " 4.5444926506810965,\n",
              " 30.480163205317012,\n",
              " 4.754889669367994,\n",
              " 10.974344987020064,\n",
              " 32.16596814201532,\n",
              " 7.303580549843668,\n",
              " 13.853165641760562,\n",
              " 7.138924048966946,\n",
              " 18.40770771460927,\n",
              " 19.117293805971897,\n",
              " 4.199752644571333,\n",
              " 7.824531651363712,\n",
              " 5.882708420845424,\n",
              " 46.107243074772086,\n",
              " 8.471531815638915,\n",
              " 19.9126473749781,\n",
              " 41.74680891749724,\n",
              " 9.241919664869826,\n",
              " 27.61430707745609,\n",
              " 35.51951596502246,\n",
              " 4.747833982734254,\n",
              " 5.845765884989185,\n",
              " 8.498946783884396,\n",
              " 41.07581448967417,\n",
              " 33.60373110024442,\n",
              " 33.73240641129999,\n",
              " 3.8905597145176207,\n",
              " 6.2805589652270495,\n",
              " 4.6757602953277555,\n",
              " 5.3446735919650425,\n",
              " 9.559894485672835,\n",
              " 9.874363843263858,\n",
              " 3.3563520345334696,\n",
              " 7.1448244386795725,\n",
              " 4.738163264218445,\n",
              " 4.958797024865277,\n",
              " 30.79564783539598,\n",
              " 42.8253457299092,\n",
              " 7.515322068413827,\n",
              " 6.789217154644773,\n",
              " 35.34263030739376,\n",
              " 13.15144740097143,\n",
              " 29.465947195372173,\n",
              " 42.705763099021006,\n",
              " 23.783007556050144,\n",
              " 37.41119814723605,\n",
              " 35.21801930570687,\n",
              " 23.730602098478798,\n",
              " 4.494357485654638,\n",
              " 20.683192218833234,\n",
              " 7.023581755113209,\n",
              " 3.725509511069556,\n",
              " 28.737434819104514,\n",
              " 25.29700209206136,\n",
              " 22.934887414153753,\n",
              " 10.191405855675367,\n",
              " 25.47135035697734,\n",
              " 24.802368391965274,\n",
              " 24.55941422030059,\n",
              " 6.488826349787651,\n",
              " 8.141001439761968,\n",
              " 36.791539584120216,\n",
              " 3.1212854433284507,\n",
              " 45.274437449779654,\n",
              " 26.973078999844994,\n",
              " 31.33681224478867,\n",
              " 1.4263836256712041,\n",
              " 3.381075793260846,\n",
              " 36.84059186140523,\n",
              " 26.182682939497134,\n",
              " 5.789900682617543,\n",
              " 24.851644717211748,\n",
              " 4.162187317557545,\n",
              " 5.116037299464456,\n",
              " 6.85421504491598,\n",
              " 8.259034747509162,\n",
              " 3.4742392677215306,\n",
              " 34.89651642235721,\n",
              " 46.81339081762299,\n",
              " 4.790250753732343,\n",
              " 4.802992203151565,\n",
              " 31.982425325271322,\n",
              " 3.2128922499186805,\n",
              " 24.279002658910727,\n",
              " 6.150106574448781,\n",
              " 23.97344221644005,\n",
              " 10.263660492564243,\n",
              " 28.548096884712923,\n",
              " 25.31023088289598,\n",
              " 5.474693166962753,\n",
              " 3.3233322820544613,\n",
              " 29.542250051349992,\n",
              " 3.993946590219874,\n",
              " 15.317856288558708,\n",
              " 5.678798275745897,\n",
              " 39.014406514725,\n",
              " 5.560454161449855,\n",
              " 14.14153558892198,\n",
              " 3.201942396977364,\n",
              " 3.1691369788796298,\n",
              " 23.40834846761539,\n",
              " 39.188960145551334,\n",
              " 5.797823051721507,\n",
              " 3.3440183004702595,\n",
              " 4.90066310313016,\n",
              " 6.701116335486238,\n",
              " 32.1542984458748,\n",
              " 5.360961104432126,\n",
              " 6.894070755924212,\n",
              " 27.31501941255312,\n",
              " 6.429285896865389,\n",
              " 32.315934716928986,\n",
              " 35.05400561279749,\n",
              " 27.734589517141885,\n",
              " 4.986864826893522,\n",
              " 41.34552149837697,\n",
              " 28.36468497616586,\n",
              " 25.067324838019026,\n",
              " 22.03446496505286,\n",
              " 6.701235132973933,\n",
              " 6.49006810585213,\n",
              " 10.769007952317466,\n",
              " 4.583079237143052,\n",
              " 30.154515992267616,\n",
              " 6.515167428259183,\n",
              " 7.047859846829546,\n",
              " 3.098506673700043,\n",
              " 40.84430554619285,\n",
              " 7.076027919626225,\n",
              " 24.86918229192655,\n",
              " 8.332597150010239,\n",
              " 5.832200113413536,\n",
              " 47.81363837366759,\n",
              " 3.4545900698392433,\n",
              " 34.807154255714266,\n",
              " 8.227176239261693,\n",
              " 4.137439522222112,\n",
              " 18.770499799301106,\n",
              " 23.298333061109673,\n",
              " 30.223455276263174,\n",
              " 33.51177390390093,\n",
              " 24.264247663424932,\n",
              " 5.871186579284167,\n",
              " 8.923338632634724,\n",
              " 12.762745661842734,\n",
              " 3.864492033428373,\n",
              " 3.185468743043672,\n",
              " 28.528707771254133,\n",
              " 32.42634746026469,\n",
              " 3.7154089993236377,\n",
              " 20.765489693523502,\n",
              " 5.539852454646011,\n",
              " 10.35538511265557,\n",
              " 8.142375803102787,\n",
              " 8.814891972112132,\n",
              " 8.55988952907279,\n",
              " 29.331866274785405,\n",
              " 5.419033016025411,\n",
              " 2.9607429637095506,\n",
              " 6.894559670548533,\n",
              " 6.386386869634376,\n",
              " 8.328680611464769,\n",
              " 6.620102711938203,\n",
              " 24.689353274555938,\n",
              " 29.934526601168937,\n",
              " 35.84580039799074,\n",
              " 28.131145528699605,\n",
              " 43.2455099427784,\n",
              " 41.304594616239626,\n",
              " 3.9602073155596287,\n",
              " 4.26231371284348,\n",
              " 2.4759410896718217,\n",
              " 43.66403978950693,\n",
              " 35.18694393165071,\n",
              " 2.1836965419670697,\n",
              " 32.29049133915792,\n",
              " 29.816070190846915,\n",
              " 7.843889469514394,\n",
              " 4.088033419145354,\n",
              " 5.336947602805766,\n",
              " 36.52201842712491,\n",
              " 5.778919759711142,\n",
              " 6.007313504115176,\n",
              " 25.62412843690798,\n",
              " 25.980594307343754,\n",
              " 30.185921511982073,\n",
              " 36.41620705167568,\n",
              " 26.375063178894,\n",
              " 29.364462975075195,\n",
              " 32.979260019025425,\n",
              " 5.949956810462007,\n",
              " 26.988227921546773,\n",
              " 30.784285867534216,\n",
              " 24.557353118036264,\n",
              " 4.13976400168582,\n",
              " 4.082299754429035,\n",
              " 20.838253036021612,\n",
              " 38.9921174010594]"
            ]
          },
          "metadata": {
            "tags": []
          },
          "execution_count": 36
        }
      ]
    },
    {
      "cell_type": "code",
      "metadata": {
        "colab": {
          "base_uri": "https://localhost:8080/",
          "height": 77
        },
        "id": "xAb0Y5VuAnJr",
        "outputId": "e551ca6a-5dfe-4517-9314-0e4ed5ec9ce1"
      },
      "source": [
        "error_df.head(5)"
      ],
      "execution_count": null,
      "outputs": [
        {
          "output_type": "execute_result",
          "data": {
            "text/html": [
              "<div>\n",
              "<style scoped>\n",
              "    .dataframe tbody tr th:only-of-type {\n",
              "        vertical-align: middle;\n",
              "    }\n",
              "\n",
              "    .dataframe tbody tr th {\n",
              "        vertical-align: top;\n",
              "    }\n",
              "\n",
              "    .dataframe thead th {\n",
              "        text-align: right;\n",
              "    }\n",
              "</style>\n",
              "<table border=\"1\" class=\"dataframe\">\n",
              "  <thead>\n",
              "    <tr style=\"text-align: right;\">\n",
              "      <th></th>\n",
              "      <th>Reconstruction_error</th>\n",
              "      <th>True_class</th>\n",
              "    </tr>\n",
              "  </thead>\n",
              "  <tbody>\n",
              "    <tr>\n",
              "      <th>0</th>\n",
              "      <td>244.603614</td>\n",
              "      <td>1</td>\n",
              "    </tr>\n",
              "  </tbody>\n",
              "</table>\n",
              "</div>"
            ],
            "text/plain": [
              "   Reconstruction_error  True_class\n",
              "0            244.603614           1"
            ]
          },
          "metadata": {
            "tags": []
          },
          "execution_count": 101
        }
      ]
    },
    {
      "cell_type": "code",
      "metadata": {
        "colab": {
          "base_uri": "https://localhost:8080/",
          "height": 295
        },
        "id": "jRB3McV9WFr1",
        "outputId": "cdf671ae-c369-48de-8b92-589c8d6829f6"
      },
      "source": [
        "#valid_x_predictions = model.predict(X_test)\n",
        "#mse = np.mean(np.power(np.ravel(X_test)[0] - np.ravel(valid_x_predictions)[0], 2), axis=1)\n",
        "#error_df = pd.DataFrame({'Reconstruction_error': mse,\n",
        " #                       'True_class': y_test})\n",
        "#precision_rt, recall_rt, threshold_rt = precision_recall_curve(error_df.True_class, error_df.Reconstruction_error)\n",
        "precision_rt, recall_rt, threshold_rt = precision_recall_curve(y_test,mse)\n",
        "\n",
        "plt.plot(threshold_rt, precision_rt[1:], label=\"Precision\",linewidth=5)\n",
        "plt.plot(threshold_rt, recall_rt[1:], label=\"Recall\",linewidth=5)\n",
        "plt.title('Precision and recall for different threshold values')\n",
        "plt.xlabel('Threshold')\n",
        "plt.ylabel('Precision/Recall')\n",
        "plt.legend()\n",
        "plt.show()"
      ],
      "execution_count": null,
      "outputs": [
        {
          "output_type": "display_data",
          "data": {
            "image/png": "[encoded data removed]",
            "text/plain": [
              "<Figure size 432x288 with 1 Axes>"
            ]
          },
          "metadata": {
            "tags": [],
            "needs_background": "light"
          }
        }
      ]
    },
    {
      "cell_type": "code",
      "metadata": {
        "id": "b9i_okE1D7yS",
        "colab": {
          "base_uri": "https://localhost:8080/",
          "height": 370
        },
        "outputId": "a5528449-f6cf-4475-bdbf-b6037dac8bae"
      },
      "source": [
        "test_x_predictions = model.predict(X_test)\n",
        "d=pd.DataFrame()\n",
        "error_df=pd.DataFrame(columns=('Reconstruction_error','True_class'))\n",
        "mse=[]\n",
        "for i in range(len(X_test)):\n",
        "  mse.append(np.linalg.norm(np.ravel(X_test[i])-np.ravel(test_x_predictions[i])))\n",
        "  d=pd.DataFrame({'Reconstruction_error':mse[i],'True_class':y_test[i]})\n",
        "  error_df=error_df.append(d)\n",
        "  #error_df.append(d,ignore_index = True)"
      ],
      "execution_count": null,
      "outputs": [
        {
          "output_type": "error",
          "ename": "ValueError",
          "evalue": "ignored",
          "traceback": [
            "\u001b[0;31m---------------------------------------------------------------------------\u001b[0m",
            "\u001b[0;31mValueError\u001b[0m                                Traceback (most recent call last)",
            "\u001b[0;32m<ipython-input-26-b67cbc2f6b02>\u001b[0m in \u001b[0;36m<module>\u001b[0;34m()\u001b[0m\n\u001b[1;32m      5\u001b[0m \u001b[0;32mfor\u001b[0m \u001b[0mi\u001b[0m \u001b[0;32min\u001b[0m \u001b[0mrange\u001b[0m\u001b[0;34m(\u001b[0m\u001b[0mlen\u001b[0m\u001b[0;34m(\u001b[0m\u001b[0mX_test\u001b[0m\u001b[0;34m)\u001b[0m\u001b[0;34m)\u001b[0m\u001b[0;34m:\u001b[0m\u001b[0;34m\u001b[0m\u001b[0;34m\u001b[0m\u001b[0m\n\u001b[1;32m      6\u001b[0m   \u001b[0mmse\u001b[0m\u001b[0;34m.\u001b[0m\u001b[0mappend\u001b[0m\u001b[0;34m(\u001b[0m\u001b[0mnp\u001b[0m\u001b[0;34m.\u001b[0m\u001b[0mlinalg\u001b[0m\u001b[0;34m.\u001b[0m\u001b[0mnorm\u001b[0m\u001b[0;34m(\u001b[0m\u001b[0mnp\u001b[0m\u001b[0;34m.\u001b[0m\u001b[0mravel\u001b[0m\u001b[0;34m(\u001b[0m\u001b[0mX_test\u001b[0m\u001b[0;34m[\u001b[0m\u001b[0mi\u001b[0m\u001b[0;34m]\u001b[0m\u001b[0;34m)\u001b[0m\u001b[0;34m-\u001b[0m\u001b[0mnp\u001b[0m\u001b[0;34m.\u001b[0m\u001b[0mravel\u001b[0m\u001b[0;34m(\u001b[0m\u001b[0mtest_x_predictions\u001b[0m\u001b[0;34m[\u001b[0m\u001b[0mi\u001b[0m\u001b[0;34m]\u001b[0m\u001b[0;34m)\u001b[0m\u001b[0;34m)\u001b[0m\u001b[0;34m)\u001b[0m\u001b[0;34m\u001b[0m\u001b[0;34m\u001b[0m\u001b[0m\n\u001b[0;32m----> 7\u001b[0;31m   \u001b[0md\u001b[0m\u001b[0;34m=\u001b[0m\u001b[0mpd\u001b[0m\u001b[0;34m.\u001b[0m\u001b[0mDataFrame\u001b[0m\u001b[0;34m(\u001b[0m\u001b[0;34m{\u001b[0m\u001b[0;34m'Reconstruction_error'\u001b[0m\u001b[0;34m:\u001b[0m\u001b[0mmse\u001b[0m\u001b[0;34m[\u001b[0m\u001b[0mi\u001b[0m\u001b[0;34m]\u001b[0m\u001b[0;34m,\u001b[0m\u001b[0;34m'True_class'\u001b[0m\u001b[0;34m:\u001b[0m\u001b[0my_test\u001b[0m\u001b[0;34m[\u001b[0m\u001b[0mi\u001b[0m\u001b[0;34m]\u001b[0m\u001b[0;34m}\u001b[0m\u001b[0;34m)\u001b[0m\u001b[0;34m\u001b[0m\u001b[0;34m\u001b[0m\u001b[0m\n\u001b[0m\u001b[1;32m      8\u001b[0m   \u001b[0merror_df\u001b[0m\u001b[0;34m=\u001b[0m\u001b[0merror_df\u001b[0m\u001b[0;34m.\u001b[0m\u001b[0mappend\u001b[0m\u001b[0;34m(\u001b[0m\u001b[0md\u001b[0m\u001b[0;34m)\u001b[0m\u001b[0;34m\u001b[0m\u001b[0;34m\u001b[0m\u001b[0m\n\u001b[1;32m      9\u001b[0m   \u001b[0;31m#error_df.append(d,ignore_index = True)\u001b[0m\u001b[0;34m\u001b[0m\u001b[0;34m\u001b[0m\u001b[0;34m\u001b[0m\u001b[0m\n",
            "\u001b[0;32m/usr/local/lib/python3.6/dist-packages/pandas/core/frame.py\u001b[0m in \u001b[0;36m__init__\u001b[0;34m(self, data, index, columns, dtype, copy)\u001b[0m\n\u001b[1;32m    466\u001b[0m \u001b[0;34m\u001b[0m\u001b[0m\n\u001b[1;32m    467\u001b[0m         \u001b[0;32melif\u001b[0m \u001b[0misinstance\u001b[0m\u001b[0;34m(\u001b[0m\u001b[0mdata\u001b[0m\u001b[0;34m,\u001b[0m \u001b[0mdict\u001b[0m\u001b[0;34m)\u001b[0m\u001b[0;34m:\u001b[0m\u001b[0;34m\u001b[0m\u001b[0;34m\u001b[0m\u001b[0m\n\u001b[0;32m--> 468\u001b[0;31m             \u001b[0mmgr\u001b[0m \u001b[0;34m=\u001b[0m \u001b[0minit_dict\u001b[0m\u001b[0;34m(\u001b[0m\u001b[0mdata\u001b[0m\u001b[0;34m,\u001b[0m \u001b[0mindex\u001b[0m\u001b[0;34m,\u001b[0m \u001b[0mcolumns\u001b[0m\u001b[0;34m,\u001b[0m \u001b[0mdtype\u001b[0m\u001b[0;34m=\u001b[0m\u001b[0mdtype\u001b[0m\u001b[0;34m)\u001b[0m\u001b[0;34m\u001b[0m\u001b[0;34m\u001b[0m\u001b[0m\n\u001b[0m\u001b[1;32m    469\u001b[0m         \u001b[0;32melif\u001b[0m \u001b[0misinstance\u001b[0m\u001b[0;34m(\u001b[0m\u001b[0mdata\u001b[0m\u001b[0;34m,\u001b[0m \u001b[0mma\u001b[0m\u001b[0;34m.\u001b[0m\u001b[0mMaskedArray\u001b[0m\u001b[0;34m)\u001b[0m\u001b[0;34m:\u001b[0m\u001b[0;34m\u001b[0m\u001b[0;34m\u001b[0m\u001b[0m\n\u001b[1;32m    470\u001b[0m             \u001b[0;32mimport\u001b[0m \u001b[0mnumpy\u001b[0m\u001b[0;34m.\u001b[0m\u001b[0mma\u001b[0m\u001b[0;34m.\u001b[0m\u001b[0mmrecords\u001b[0m \u001b[0;32mas\u001b[0m \u001b[0mmrecords\u001b[0m\u001b[0;34m\u001b[0m\u001b[0;34m\u001b[0m\u001b[0m\n",
            "\u001b[0;32m/usr/local/lib/python3.6/dist-packages/pandas/core/internals/construction.py\u001b[0m in \u001b[0;36minit_dict\u001b[0;34m(data, index, columns, dtype)\u001b[0m\n\u001b[1;32m    281\u001b[0m             \u001b[0marr\u001b[0m \u001b[0;32mif\u001b[0m \u001b[0;32mnot\u001b[0m \u001b[0mis_datetime64tz_dtype\u001b[0m\u001b[0;34m(\u001b[0m\u001b[0marr\u001b[0m\u001b[0;34m)\u001b[0m \u001b[0;32melse\u001b[0m \u001b[0marr\u001b[0m\u001b[0;34m.\u001b[0m\u001b[0mcopy\u001b[0m\u001b[0;34m(\u001b[0m\u001b[0;34m)\u001b[0m \u001b[0;32mfor\u001b[0m \u001b[0marr\u001b[0m \u001b[0;32min\u001b[0m \u001b[0marrays\u001b[0m\u001b[0;34m\u001b[0m\u001b[0;34m\u001b[0m\u001b[0m\n\u001b[1;32m    282\u001b[0m         ]\n\u001b[0;32m--> 283\u001b[0;31m     \u001b[0;32mreturn\u001b[0m \u001b[0marrays_to_mgr\u001b[0m\u001b[0;34m(\u001b[0m\u001b[0marrays\u001b[0m\u001b[0;34m,\u001b[0m \u001b[0mdata_names\u001b[0m\u001b[0;34m,\u001b[0m \u001b[0mindex\u001b[0m\u001b[0;34m,\u001b[0m \u001b[0mcolumns\u001b[0m\u001b[0;34m,\u001b[0m \u001b[0mdtype\u001b[0m\u001b[0;34m=\u001b[0m\u001b[0mdtype\u001b[0m\u001b[0;34m)\u001b[0m\u001b[0;34m\u001b[0m\u001b[0;34m\u001b[0m\u001b[0m\n\u001b[0m\u001b[1;32m    284\u001b[0m \u001b[0;34m\u001b[0m\u001b[0m\n\u001b[1;32m    285\u001b[0m \u001b[0;34m\u001b[0m\u001b[0m\n",
            "\u001b[0;32m/usr/local/lib/python3.6/dist-packages/pandas/core/internals/construction.py\u001b[0m in \u001b[0;36marrays_to_mgr\u001b[0;34m(arrays, arr_names, index, columns, dtype, verify_integrity)\u001b[0m\n\u001b[1;32m     76\u001b[0m         \u001b[0;31m# figure out the index, if necessary\u001b[0m\u001b[0;34m\u001b[0m\u001b[0;34m\u001b[0m\u001b[0;34m\u001b[0m\u001b[0m\n\u001b[1;32m     77\u001b[0m         \u001b[0;32mif\u001b[0m \u001b[0mindex\u001b[0m \u001b[0;32mis\u001b[0m \u001b[0;32mNone\u001b[0m\u001b[0;34m:\u001b[0m\u001b[0;34m\u001b[0m\u001b[0;34m\u001b[0m\u001b[0m\n\u001b[0;32m---> 78\u001b[0;31m             \u001b[0mindex\u001b[0m \u001b[0;34m=\u001b[0m \u001b[0mextract_index\u001b[0m\u001b[0;34m(\u001b[0m\u001b[0marrays\u001b[0m\u001b[0;34m)\u001b[0m\u001b[0;34m\u001b[0m\u001b[0;34m\u001b[0m\u001b[0m\n\u001b[0m\u001b[1;32m     79\u001b[0m         \u001b[0;32melse\u001b[0m\u001b[0;34m:\u001b[0m\u001b[0;34m\u001b[0m\u001b[0;34m\u001b[0m\u001b[0m\n\u001b[1;32m     80\u001b[0m             \u001b[0mindex\u001b[0m \u001b[0;34m=\u001b[0m \u001b[0mensure_index\u001b[0m\u001b[0;34m(\u001b[0m\u001b[0mindex\u001b[0m\u001b[0;34m)\u001b[0m\u001b[0;34m\u001b[0m\u001b[0;34m\u001b[0m\u001b[0m\n",
            "\u001b[0;32m/usr/local/lib/python3.6/dist-packages/pandas/core/internals/construction.py\u001b[0m in \u001b[0;36mextract_index\u001b[0;34m(data)\u001b[0m\n\u001b[1;32m    385\u001b[0m \u001b[0;34m\u001b[0m\u001b[0m\n\u001b[1;32m    386\u001b[0m         \u001b[0;32mif\u001b[0m \u001b[0;32mnot\u001b[0m \u001b[0mindexes\u001b[0m \u001b[0;32mand\u001b[0m \u001b[0;32mnot\u001b[0m \u001b[0mraw_lengths\u001b[0m\u001b[0;34m:\u001b[0m\u001b[0;34m\u001b[0m\u001b[0;34m\u001b[0m\u001b[0m\n\u001b[0;32m--> 387\u001b[0;31m             \u001b[0;32mraise\u001b[0m \u001b[0mValueError\u001b[0m\u001b[0;34m(\u001b[0m\u001b[0;34m\"If using all scalar values, you must pass an index\"\u001b[0m\u001b[0;34m)\u001b[0m\u001b[0;34m\u001b[0m\u001b[0;34m\u001b[0m\u001b[0m\n\u001b[0m\u001b[1;32m    388\u001b[0m \u001b[0;34m\u001b[0m\u001b[0m\n\u001b[1;32m    389\u001b[0m         \u001b[0;32mif\u001b[0m \u001b[0mhave_series\u001b[0m\u001b[0;34m:\u001b[0m\u001b[0;34m\u001b[0m\u001b[0;34m\u001b[0m\u001b[0m\n",
            "\u001b[0;31mValueError\u001b[0m: If using all scalar values, you must pass an index"
          ]
        }
      ]
    },
    {
      "cell_type": "code",
      "metadata": {
        "colab": {
          "base_uri": "https://localhost:8080/",
          "height": 47
        },
        "id": "aAgnEjjpHaeB",
        "outputId": "d937410f-3cf3-468b-cbff-3fd18f55c7b5"
      },
      "source": [
        "pd.DataFrame(columns=('Reconstruction_error','True_class'))"
      ],
      "execution_count": null,
      "outputs": [
        {
          "output_type": "execute_result",
          "data": {
            "text/html": [
              "<div>\n",
              "<style scoped>\n",
              "    .dataframe tbody tr th:only-of-type {\n",
              "        vertical-align: middle;\n",
              "    }\n",
              "\n",
              "    .dataframe tbody tr th {\n",
              "        vertical-align: top;\n",
              "    }\n",
              "\n",
              "    .dataframe thead th {\n",
              "        text-align: right;\n",
              "    }\n",
              "</style>\n",
              "<table border=\"1\" class=\"dataframe\">\n",
              "  <thead>\n",
              "    <tr style=\"text-align: right;\">\n",
              "      <th></th>\n",
              "      <th>Reconstruction_error</th>\n",
              "      <th>True_class</th>\n",
              "    </tr>\n",
              "  </thead>\n",
              "  <tbody>\n",
              "  </tbody>\n",
              "</table>\n",
              "</div>"
            ],
            "text/plain": [
              "Empty DataFrame\n",
              "Columns: [Reconstruction_error, True_class]\n",
              "Index: []"
            ]
          },
          "metadata": {
            "tags": []
          },
          "execution_count": 112
        }
      ]
    },
    {
      "cell_type": "code",
      "metadata": {
        "id": "06UXfxJGIH1v"
      },
      "source": [
        "d=pd.DataFrame({'Reconstruction_error':mse[0],'True_class':y_test[0]})"
      ],
      "execution_count": null,
      "outputs": []
    },
    {
      "cell_type": "code",
      "metadata": {
        "id": "RBgcYFV6Gt5-"
      },
      "source": [
        "error_df=error_df.append(d)"
      ],
      "execution_count": null,
      "outputs": []
    },
    {
      "cell_type": "code",
      "metadata": {
        "colab": {
          "base_uri": "https://localhost:8080/",
          "height": 402
        },
        "id": "wMvdYrUqIdIq",
        "outputId": "c239b24d-d0af-48d9-ebe8-2ae07dc9d7b8"
      },
      "source": [
        "error_df"
      ],
      "execution_count": null,
      "outputs": [
        {
          "output_type": "execute_result",
          "data": {
            "text/html": [
              "<div>\n",
              "<style scoped>\n",
              "    .dataframe tbody tr th:only-of-type {\n",
              "        vertical-align: middle;\n",
              "    }\n",
              "\n",
              "    .dataframe tbody tr th {\n",
              "        vertical-align: top;\n",
              "    }\n",
              "\n",
              "    .dataframe thead th {\n",
              "        text-align: right;\n",
              "    }\n",
              "</style>\n",
              "<table border=\"1\" class=\"dataframe\">\n",
              "  <thead>\n",
              "    <tr style=\"text-align: right;\">\n",
              "      <th></th>\n",
              "      <th>Reconstruction_error</th>\n",
              "      <th>True_class</th>\n",
              "    </tr>\n",
              "  </thead>\n",
              "  <tbody>\n",
              "    <tr>\n",
              "      <th>0</th>\n",
              "      <td>295.006806</td>\n",
              "      <td>1</td>\n",
              "    </tr>\n",
              "    <tr>\n",
              "      <th>0</th>\n",
              "      <td>510.625705</td>\n",
              "      <td>0</td>\n",
              "    </tr>\n",
              "    <tr>\n",
              "      <th>0</th>\n",
              "      <td>245.312703</td>\n",
              "      <td>1</td>\n",
              "    </tr>\n",
              "    <tr>\n",
              "      <th>0</th>\n",
              "      <td>279.419361</td>\n",
              "      <td>1</td>\n",
              "    </tr>\n",
              "    <tr>\n",
              "      <th>0</th>\n",
              "      <td>232.709333</td>\n",
              "      <td>1</td>\n",
              "    </tr>\n",
              "    <tr>\n",
              "      <th>...</th>\n",
              "      <td>...</td>\n",
              "      <td>...</td>\n",
              "    </tr>\n",
              "    <tr>\n",
              "      <th>0</th>\n",
              "      <td>450.893534</td>\n",
              "      <td>0</td>\n",
              "    </tr>\n",
              "    <tr>\n",
              "      <th>0</th>\n",
              "      <td>395.660075</td>\n",
              "      <td>0</td>\n",
              "    </tr>\n",
              "    <tr>\n",
              "      <th>0</th>\n",
              "      <td>403.392396</td>\n",
              "      <td>0</td>\n",
              "    </tr>\n",
              "    <tr>\n",
              "      <th>0</th>\n",
              "      <td>453.658454</td>\n",
              "      <td>0</td>\n",
              "    </tr>\n",
              "    <tr>\n",
              "      <th>0</th>\n",
              "      <td>244.603614</td>\n",
              "      <td>1</td>\n",
              "    </tr>\n",
              "  </tbody>\n",
              "</table>\n",
              "<p>315 rows × 2 columns</p>\n",
              "</div>"
            ],
            "text/plain": [
              "    Reconstruction_error True_class\n",
              "0             295.006806          1\n",
              "0             510.625705          0\n",
              "0             245.312703          1\n",
              "0             279.419361          1\n",
              "0             232.709333          1\n",
              "..                   ...        ...\n",
              "0             450.893534          0\n",
              "0             395.660075          0\n",
              "0             403.392396          0\n",
              "0             453.658454          0\n",
              "0             244.603614          1\n",
              "\n",
              "[315 rows x 2 columns]"
            ]
          },
          "metadata": {
            "tags": []
          },
          "execution_count": 128
        }
      ]
    },
    {
      "cell_type": "code",
      "metadata": {
        "colab": {
          "base_uri": "https://localhost:8080/",
          "height": 178
        },
        "id": "JoaY_RNJJBfJ",
        "outputId": "6ed1cc27-b5e8-4a29-dd4a-806b62418e60"
      },
      "source": [
        "error_df_test = pd.DataFrame({'Reconstruction_error': mse,\n",
        "                       'True_class': df_test['y']})"
      ],
      "execution_count": null,
      "outputs": [
        {
          "output_type": "error",
          "ename": "NameError",
          "evalue": "ignored",
          "traceback": [
            "\u001b[0;31m---------------------------------------------------------------------------\u001b[0m",
            "\u001b[0;31mNameError\u001b[0m                                 Traceback (most recent call last)",
            "\u001b[0;32m<ipython-input-131-3bcc3644e7a3>\u001b[0m in \u001b[0;36m<module>\u001b[0;34m()\u001b[0m\n\u001b[1;32m      1\u001b[0m error_df_test = pd.DataFrame({'Reconstruction_error': mse,\n\u001b[0;32m----> 2\u001b[0;31m                        'True_class': df_test['y']})\n\u001b[0m",
            "\u001b[0;31mNameError\u001b[0m: name 'df_test' is not defined"
          ]
        }
      ]
    },
    {
      "cell_type": "code",
      "metadata": {
        "colab": {
          "base_uri": "https://localhost:8080/",
          "height": 295
        },
        "id": "Pq0SPlWdDugn",
        "outputId": "c14148d2-d173-4298-cebe-d746668e7765"
      },
      "source": [
        "#test_x_predictions = model.predict(df_test_x_rescaled)\n",
        "#mse = np.mean(np.power(df_test_x_rescaled - test_x_predictions, 2), axis=1)\n",
        "#error_df_test = pd.DataFrame({'Reconstruction_error': mse,\n",
        "#                       'True_class': df_test['y']})\n",
        "error_df_test=error_df\n",
        "error_df_test = error_df_test.reset_index()\n",
        "threshold_fixed = 300\n",
        "groups = error_df_test.groupby('True_class')\n",
        "fig, ax = plt.subplots()\n",
        "for name, group in groups:\n",
        "    ax.plot(group.index, group.Reconstruction_error, marker='o', ms=3.5, linestyle='',\n",
        "            label= \"Break\" if name == 1 else \"Normal\")\n",
        "ax.hlines(threshold_fixed, ax.get_xlim()[0], ax.get_xlim()[1], colors=\"r\", zorder=100, label='Threshold')\n",
        "ax.legend()\n",
        "plt.title(\"Reconstruction error for different classes\")\n",
        "plt.ylabel(\"Reconstruction error\")\n",
        "plt.xlabel(\"Data point index\")\n",
        "plt.show();"
      ],
      "execution_count": null,
      "outputs": [
        {
          "output_type": "display_data",
          "data": {
            "image/png": "[encoded data removed]",
            "text/plain": [
              "<Figure size 432x288 with 1 Axes>"
            ]
          },
          "metadata": {
            "tags": [],
            "needs_background": "light"
          }
        }
      ]
    },
    {
      "cell_type": "code",
      "metadata": {
        "colab": {
          "base_uri": "https://localhost:8080/"
        },
        "id": "eEPmrBVZMRQa",
        "outputId": "3abc1966-62b5-44aa-9b91-a5959f6bf107"
      },
      "source": [
        "np.shape(pred_y)"
      ],
      "execution_count": null,
      "outputs": [
        {
          "output_type": "execute_result",
          "data": {
            "text/plain": [
              "(315,)"
            ]
          },
          "metadata": {
            "tags": []
          },
          "execution_count": 139
        }
      ]
    },
    {
      "cell_type": "code",
      "metadata": {
        "colab": {
          "base_uri": "https://localhost:8080/"
        },
        "id": "VPTS4G1YMfs-",
        "outputId": "92a4804a-0aaf-44e4-e3bb-b49e3ec555f2"
      },
      "source": [
        "np.shape(error_df.True_class)"
      ],
      "execution_count": null,
      "outputs": [
        {
          "output_type": "execute_result",
          "data": {
            "text/plain": [
              "(315,)"
            ]
          },
          "metadata": {
            "tags": []
          },
          "execution_count": 141
        }
      ]
    },
    {
      "cell_type": "code",
      "metadata": {
        "id": "eLcb662jM55j"
      },
      "source": [
        "import seaborn as sns\n",
        "LABELS = [\"Normal\",\"Break\"]\n",
        "threshold_fixed = 400\n"
      ],
      "execution_count": null,
      "outputs": []
    },
    {
      "cell_type": "code",
      "metadata": {
        "colab": {
          "base_uri": "https://localhost:8080/",
          "height": 730
        },
        "id": "2PZChYIOJmsw",
        "outputId": "43406056-d148-4bfc-d83d-5fcfea6d9a27"
      },
      "source": [
        "pred_y = [1 if e > threshold_fixed else 0 for e in error_df.Reconstruction_error.values]\n",
        "conf_matrix = confusion_matrix(y_test, pred_y)\n",
        "plt.figure(figsize=(12, 12))\n",
        "sns.heatmap(conf_matrix, xticklabels=LABELS, yticklabels=LABELS, annot=True, fmt=\"d\");\n",
        "plt.title(\"Confusion matrix\")\n",
        "plt.ylabel('True class')\n",
        "plt.xlabel('Predicted class')\n",
        "plt.show()"
      ],
      "execution_count": null,
      "outputs": [
        {
          "output_type": "display_data",
          "data": {
            "image/png": "[encoded data removed]",
            "text/plain": [
              "<Figure size 864x864 with 2 Axes>"
            ]
          },
          "metadata": {
            "tags": [],
            "needs_background": "light"
          }
        }
      ]
    },
    {
      "cell_type": "code",
      "metadata": {
        "colab": {
          "base_uri": "https://localhost:8080/"
        },
        "id": "TAtHWoirAYT3",
        "outputId": "4f304231-17b5-4067-fa0d-251d3c04ce40"
      },
      "source": [
        "recall_rt"
      ],
      "execution_count": null,
      "outputs": [
        {
          "output_type": "execute_result",
          "data": {
            "text/plain": [
              "array([1., 0.])"
            ]
          },
          "metadata": {
            "tags": []
          },
          "execution_count": 99
        }
      ]
    },
    {
      "cell_type": "code",
      "metadata": {
        "colab": {
          "base_uri": "https://localhost:8080/"
        },
        "id": "Uad__cJCfcG9",
        "outputId": "1f31d076-d348-4131-828d-0eb97e7b6070"
      },
      "source": [
        "valid_x_predictions.shape"
      ],
      "execution_count": null,
      "outputs": [
        {
          "output_type": "execute_result",
          "data": {
            "text/plain": [
              "(315, 64, 64, 2)"
            ]
          },
          "metadata": {
            "tags": []
          },
          "execution_count": 56
        }
      ]
    },
    {
      "cell_type": "code",
      "metadata": {
        "colab": {
          "base_uri": "https://localhost:8080/"
        },
        "id": "-XuGk90NbY0t",
        "outputId": "9a08ba94-9b4a-41fa-9b65-0fe653bc8615"
      },
      "source": [
        "np.ravel(mse).shape\n"
      ],
      "execution_count": null,
      "outputs": [
        {
          "output_type": "execute_result",
          "data": {
            "text/plain": [
              "()"
            ]
          },
          "metadata": {
            "tags": []
          },
          "execution_count": 61
        }
      ]
    },
    {
      "cell_type": "code",
      "metadata": {
        "colab": {
          "base_uri": "https://localhost:8080/"
        },
        "id": "t16s9s8PiXr8",
        "outputId": "e4a33cf4-fb36-4d80-9e71-d72ca62b579c"
      },
      "source": [
        "b"
      ],
      "execution_count": null,
      "outputs": [
        {
          "output_type": "execute_result",
          "data": {
            "text/plain": [
              "array([  5.26991288,   6.99663651,   5.5367849 ,   3.10879926,\n",
              "         5.71185492,   8.3051792 ,   8.61350157,   4.19098598,\n",
              "         5.19623973,   6.60498327,   7.0015103 ,   3.71967934,\n",
              "         3.65835822,   5.22213159,   5.55424577,   4.32676695,\n",
              "         5.13284321,   5.41739564,   4.46351295,   4.43156241,\n",
              "         5.12730954,   4.60843622,   4.54772409,   4.39354304,\n",
              "         4.64252886,   4.18309317,   3.19232584,   3.70953479,\n",
              "         5.69800051,   8.1403541 ,   5.85088648,   4.5341339 ,\n",
              "         5.09590774,   5.52888423,   4.26242013,   6.00821095,\n",
              "         7.50921544,   4.22066733,   5.07426355,   7.27871581,\n",
              "         6.51618681,   6.48801127,   6.05677418,   6.49964393,\n",
              "         7.68079905,   9.07712127,   9.93016949,   7.79051973,\n",
              "         7.64432217,   9.16886333,   9.95055573,   9.48887855,\n",
              "         8.38818972,   9.67952611,  12.80610571,  17.09397124,\n",
              "        16.32394251,  42.25341007,  90.68768148, 119.35997467,\n",
              "       133.2843335 , 127.54011082, 119.41487384, 107.71213051])"
            ]
          },
          "metadata": {
            "tags": []
          },
          "execution_count": 76
        }
      ]
    },
    {
      "cell_type": "code",
      "metadata": {
        "colab": {
          "base_uri": "https://localhost:8080/"
        },
        "id": "K8fmcsJkhzEe",
        "outputId": "468582b4-2e9f-41ae-92a8-8233f91465e8"
      },
      "source": [
        "np.linalg.norm(np.ravel(X_test[10])-np.ravel(valid_x_predictions[10]))"
      ],
      "execution_count": null,
      "outputs": [
        {
          "output_type": "execute_result",
          "data": {
            "text/plain": [
              "185.33771905694005"
            ]
          },
          "metadata": {
            "tags": []
          },
          "execution_count": 92
        }
      ]
    },
    {
      "cell_type": "code",
      "metadata": {
        "colab": {
          "base_uri": "https://localhost:8080/"
        },
        "id": "eDZtciUhi2Gw",
        "outputId": "1d3785c9-7993-4717-e50c-349bd7222b97"
      },
      "source": [
        "b.shape"
      ],
      "execution_count": null,
      "outputs": [
        {
          "output_type": "execute_result",
          "data": {
            "text/plain": [
              "(64,)"
            ]
          },
          "metadata": {
            "tags": []
          },
          "execution_count": 81
        }
      ]
    },
    {
      "cell_type": "code",
      "metadata": {
        "id": "dFZHSKAXhjoa"
      },
      "source": [
        "b=np.linalg.norm(np.ravel(X_test)-valid_x_predictions[0],axis=(1,2))"
      ],
      "execution_count": null,
      "outputs": []
    },
    {
      "cell_type": "code",
      "metadata": {
        "id": "oItNFkFtYdhe"
      },
      "source": [
        "y_test=np.reshape(y_test, (-1, 1))\n"
      ],
      "execution_count": null,
      "outputs": []
    },
    {
      "cell_type": "code",
      "metadata": {
        "colab": {
          "base_uri": "https://localhost:8080/"
        },
        "id": "9iSuyUitWGWU",
        "outputId": "ebab3f88-d810-42ed-eb9d-faf7d8d68c54"
      },
      "source": [
        "y_test.shape"
      ],
      "execution_count": null,
      "outputs": [
        {
          "output_type": "execute_result",
          "data": {
            "text/plain": [
              "(315, 1)"
            ]
          },
          "metadata": {
            "tags": []
          },
          "execution_count": 52
        }
      ]
    },
    {
      "cell_type": "code",
      "metadata": {
        "id": "KQhik_Q6a0Sf"
      },
      "source": [
        "y_test=y_test[:,0]"
      ],
      "execution_count": null,
      "outputs": []
    },
    {
      "cell_type": "code",
      "metadata": {
        "id": "FW15HU6vbQUS"
      },
      "source": [
        "X_train, X_test, y_train, y_test = train_test_split(x, y)\n",
        "X_train=np.array(X_train)\n",
        "X_test=np.array(X_test)\n",
        "y_train=np.array(y_train)\n",
        "y_test=np.array(y_test)"
      ],
      "execution_count": null,
      "outputs": []
    },
    {
      "cell_type": "code",
      "metadata": {
        "colab": {
          "base_uri": "https://localhost:8080/"
        },
        "id": "maS7Y4ZScJ3A",
        "outputId": "44a5b72f-6de8-40e7-884a-a6536360cf32"
      },
      "source": [
        "model.fit(X_train,X_train,batch_size=32,epochs=50,verbose=1,validation_data=(X_test,X_test))"
      ],
      "execution_count": null,
      "outputs": [
        {
          "output_type": "stream",
          "text": [
            "Epoch 1/50\n",
            "30/30 [==============================] - 29s 980ms/step - loss: 17.7086 - accuracy: 0.9614 - val_loss: 22.5351 - val_accuracy: 0.9539\n",
            "Epoch 2/50\n",
            "30/30 [==============================] - 30s 1000ms/step - loss: 17.9981 - accuracy: 0.9617 - val_loss: 20.5591 - val_accuracy: 0.9548\n",
            "Epoch 3/50\n",
            "30/30 [==============================] - 30s 997ms/step - loss: 15.4536 - accuracy: 0.9635 - val_loss: 22.9504 - val_accuracy: 0.9551\n",
            "Epoch 4/50\n",
            "30/30 [==============================] - 30s 1s/step - loss: 15.2738 - accuracy: 0.9635 - val_loss: 19.6978 - val_accuracy: 0.9542\n",
            "Epoch 5/50\n",
            "30/30 [==============================] - 30s 996ms/step - loss: 15.8853 - accuracy: 0.9639 - val_loss: 20.4316 - val_accuracy: 0.9544\n",
            "Epoch 6/50\n",
            "30/30 [==============================] - 30s 991ms/step - loss: 15.7581 - accuracy: 0.9637 - val_loss: 23.8783 - val_accuracy: 0.9546\n",
            "Epoch 7/50\n",
            "30/30 [==============================] - 30s 992ms/step - loss: 17.5221 - accuracy: 0.9633 - val_loss: 22.8657 - val_accuracy: 0.9550\n",
            "Epoch 8/50\n",
            "30/30 [==============================] - 30s 1s/step - loss: 15.5920 - accuracy: 0.9636 - val_loss: 23.3180 - val_accuracy: 0.9556\n",
            "Epoch 9/50\n",
            "30/30 [==============================] - 30s 995ms/step - loss: 17.5237 - accuracy: 0.9644 - val_loss: 24.2463 - val_accuracy: 0.9556\n",
            "Epoch 10/50\n",
            "30/30 [==============================] - 30s 991ms/step - loss: 16.0094 - accuracy: 0.9644 - val_loss: 19.1867 - val_accuracy: 0.9552\n",
            "Epoch 11/50\n",
            "30/30 [==============================] - 30s 993ms/step - loss: 14.6121 - accuracy: 0.9646 - val_loss: 18.5352 - val_accuracy: 0.9559\n",
            "Epoch 12/50\n",
            "30/30 [==============================] - 30s 992ms/step - loss: 14.2596 - accuracy: 0.9657 - val_loss: 18.5688 - val_accuracy: 0.9569\n",
            "Epoch 13/50\n",
            "30/30 [==============================] - 29s 988ms/step - loss: 13.8140 - accuracy: 0.9662 - val_loss: 18.8939 - val_accuracy: 0.9549\n",
            "Epoch 14/50\n",
            "30/30 [==============================] - 30s 994ms/step - loss: 15.2745 - accuracy: 0.9661 - val_loss: 19.0538 - val_accuracy: 0.9561\n",
            "Epoch 15/50\n",
            "30/30 [==============================] - 30s 988ms/step - loss: 13.7439 - accuracy: 0.9658 - val_loss: 20.7225 - val_accuracy: 0.9556\n",
            "Epoch 16/50\n",
            "30/30 [==============================] - 30s 988ms/step - loss: 14.4992 - accuracy: 0.9662 - val_loss: 19.1732 - val_accuracy: 0.9564\n",
            "Epoch 17/50\n",
            "30/30 [==============================] - 30s 990ms/step - loss: 13.3076 - accuracy: 0.9670 - val_loss: 21.2656 - val_accuracy: 0.9570\n",
            "Epoch 18/50\n",
            "30/30 [==============================] - 30s 1000ms/step - loss: 12.6593 - accuracy: 0.9673 - val_loss: 20.6149 - val_accuracy: 0.9567\n",
            "Epoch 19/50\n",
            "30/30 [==============================] - 30s 988ms/step - loss: 13.0347 - accuracy: 0.9675 - val_loss: 18.3410 - val_accuracy: 0.9564\n",
            "Epoch 20/50\n",
            "30/30 [==============================] - 30s 996ms/step - loss: 13.8879 - accuracy: 0.9679 - val_loss: 18.9053 - val_accuracy: 0.9566\n",
            "Epoch 21/50\n",
            "30/30 [==============================] - 30s 995ms/step - loss: 13.2270 - accuracy: 0.9676 - val_loss: 17.8480 - val_accuracy: 0.9572\n",
            "Epoch 22/50\n",
            "30/30 [==============================] - 30s 994ms/step - loss: 13.0252 - accuracy: 0.9680 - val_loss: 17.3758 - val_accuracy: 0.9578\n",
            "Epoch 23/50\n",
            "30/30 [==============================] - 30s 989ms/step - loss: 12.1244 - accuracy: 0.9687 - val_loss: 17.4567 - val_accuracy: 0.9573\n",
            "Epoch 24/50\n",
            "30/30 [==============================] - 30s 1s/step - loss: 14.4471 - accuracy: 0.9684 - val_loss: 18.4498 - val_accuracy: 0.9567\n",
            "Epoch 25/50\n",
            "30/30 [==============================] - 30s 998ms/step - loss: 13.0416 - accuracy: 0.9677 - val_loss: 17.9490 - val_accuracy: 0.9573\n",
            "Epoch 26/50\n",
            "30/30 [==============================] - 30s 998ms/step - loss: 12.4966 - accuracy: 0.9692 - val_loss: 18.6651 - val_accuracy: 0.9578\n",
            "Epoch 27/50\n",
            "30/30 [==============================] - 30s 995ms/step - loss: 11.8113 - accuracy: 0.9690 - val_loss: 20.8422 - val_accuracy: 0.9571\n",
            "Epoch 28/50\n",
            "30/30 [==============================] - 30s 1s/step - loss: 15.0072 - accuracy: 0.9688 - val_loss: 21.0554 - val_accuracy: 0.9576\n",
            "Epoch 29/50\n",
            "30/30 [==============================] - 30s 1s/step - loss: 12.5400 - accuracy: 0.9689 - val_loss: 18.6214 - val_accuracy: 0.9575\n",
            "Epoch 30/50\n",
            "30/30 [==============================] - 30s 1s/step - loss: 12.2551 - accuracy: 0.9689 - val_loss: 17.0844 - val_accuracy: 0.9580\n",
            "Epoch 31/50\n",
            "30/30 [==============================] - 30s 1s/step - loss: 11.2896 - accuracy: 0.9702 - val_loss: 18.2926 - val_accuracy: 0.9579\n",
            "Epoch 32/50\n",
            "30/30 [==============================] - 30s 1s/step - loss: 11.5139 - accuracy: 0.9701 - val_loss: 19.6352 - val_accuracy: 0.9582\n",
            "Epoch 33/50\n",
            "30/30 [==============================] - 30s 1s/step - loss: 13.3904 - accuracy: 0.9699 - val_loss: 19.0768 - val_accuracy: 0.9572\n",
            "Epoch 34/50\n",
            "30/30 [==============================] - 30s 991ms/step - loss: 11.4043 - accuracy: 0.9702 - val_loss: 17.1524 - val_accuracy: 0.9581\n",
            "Epoch 35/50\n",
            "30/30 [==============================] - 30s 997ms/step - loss: 10.7053 - accuracy: 0.9704 - val_loss: 20.7595 - val_accuracy: 0.9584\n",
            "Epoch 36/50\n",
            "30/30 [==============================] - 30s 1s/step - loss: 10.7208 - accuracy: 0.9712 - val_loss: 19.5746 - val_accuracy: 0.9576\n",
            "Epoch 37/50\n",
            "30/30 [==============================] - 30s 989ms/step - loss: 10.8247 - accuracy: 0.9712 - val_loss: 16.6027 - val_accuracy: 0.9586\n",
            "Epoch 38/50\n",
            "30/30 [==============================] - 30s 993ms/step - loss: 10.5926 - accuracy: 0.9712 - val_loss: 21.4400 - val_accuracy: 0.9587\n",
            "Epoch 39/50\n",
            "30/30 [==============================] - 30s 1s/step - loss: 10.8588 - accuracy: 0.9712 - val_loss: 16.9041 - val_accuracy: 0.9587\n",
            "Epoch 40/50\n",
            "30/30 [==============================] - 30s 995ms/step - loss: 10.9936 - accuracy: 0.9714 - val_loss: 17.1571 - val_accuracy: 0.9587\n",
            "Epoch 41/50\n",
            "30/30 [==============================] - 30s 996ms/step - loss: 10.6080 - accuracy: 0.9714 - val_loss: 16.8621 - val_accuracy: 0.9585\n",
            "Epoch 42/50\n",
            "30/30 [==============================] - 30s 986ms/step - loss: 11.0223 - accuracy: 0.9717 - val_loss: 19.1889 - val_accuracy: 0.9581\n",
            "Epoch 43/50\n",
            "30/30 [==============================] - 30s 990ms/step - loss: 11.0891 - accuracy: 0.9721 - val_loss: 17.3710 - val_accuracy: 0.9578\n",
            "Epoch 44/50\n",
            "30/30 [==============================] - 29s 986ms/step - loss: 9.7342 - accuracy: 0.9723 - val_loss: 21.8010 - val_accuracy: 0.9589\n",
            "Epoch 45/50\n",
            "30/30 [==============================] - 30s 990ms/step - loss: 10.7772 - accuracy: 0.9721 - val_loss: 17.0241 - val_accuracy: 0.9583\n",
            "Epoch 46/50\n",
            "30/30 [==============================] - 30s 995ms/step - loss: 11.7363 - accuracy: 0.9709 - val_loss: 18.6997 - val_accuracy: 0.9586\n",
            "Epoch 47/50\n",
            "30/30 [==============================] - 29s 986ms/step - loss: 9.2533 - accuracy: 0.9726 - val_loss: 16.8539 - val_accuracy: 0.9590\n",
            "Epoch 48/50\n",
            "30/30 [==============================] - 30s 993ms/step - loss: 10.0754 - accuracy: 0.9726 - val_loss: 16.5966 - val_accuracy: 0.9590\n",
            "Epoch 49/50\n",
            "30/30 [==============================] - 30s 1s/step - loss: 10.1689 - accuracy: 0.9720 - val_loss: 18.0399 - val_accuracy: 0.9590\n",
            "Epoch 50/50\n",
            "30/30 [==============================] - 30s 994ms/step - loss: 9.2344 - accuracy: 0.9734 - val_loss: 16.5871 - val_accuracy: 0.9588\n"
          ],
          "name": "stdout"
        },
        {
          "output_type": "execute_result",
          "data": {
            "text/plain": [
              "<tensorflow.python.keras.callbacks.History at 0x7f24343da4a8>"
            ]
          },
          "metadata": {
            "tags": []
          },
          "execution_count": 15
        }
      ]
    },
    {
      "cell_type": "code",
      "metadata": {
        "colab": {
          "base_uri": "https://localhost:8080/"
        },
        "id": "yzP5Ejr9cpiu",
        "outputId": "337469a7-c1dd-4d48-c951-394a1af1b11b"
      },
      "source": [
        "np.shape(X_train)"
      ],
      "execution_count": null,
      "outputs": [
        {
          "output_type": "execute_result",
          "data": {
            "text/plain": [
              "(1740, 60, 41, 2)"
            ]
          },
          "metadata": {
            "tags": []
          },
          "execution_count": 17
        }
      ]
    },
    {
      "cell_type": "code",
      "metadata": {
        "colab": {
          "base_uri": "https://localhost:8080/"
        },
        "id": "f_iR5zJbRcMW",
        "outputId": "ffe8cdfd-2b01-4ca6-c53a-c4d1cdf96711"
      },
      "source": [
        "np.expand_dims(bonafide_features[0],axis=0).shape"
      ],
      "execution_count": null,
      "outputs": [
        {
          "output_type": "execute_result",
          "data": {
            "text/plain": [
              "(1, 64, 64, 2)"
            ]
          },
          "metadata": {
            "tags": []
          },
          "execution_count": 35
        }
      ]
    },
    {
      "cell_type": "code",
      "metadata": {
        "id": "YHOUvrT2dkwC"
      },
      "source": [
        "x=model.predict(np.expand_dims(bonafide_features[0],axis=0))"
      ],
      "execution_count": null,
      "outputs": []
    },
    {
      "cell_type": "code",
      "metadata": {
        "colab": {
          "base_uri": "https://localhost:8080/"
        },
        "id": "SxKu9EPTR3z0",
        "outputId": "179908ad-effe-4799-b5ec-8b27a2798a37"
      },
      "source": [
        "x.shape"
      ],
      "execution_count": null,
      "outputs": [
        {
          "output_type": "execute_result",
          "data": {
            "text/plain": [
              "(1, 64, 64, 2)"
            ]
          },
          "metadata": {
            "tags": []
          },
          "execution_count": 39
        }
      ]
    },
    {
      "cell_type": "code",
      "metadata": {
        "id": "50q-wGTORGy9"
      },
      "source": [
        "model.eval()"
      ],
      "execution_count": null,
      "outputs": []
    },
    {
      "cell_type": "code",
      "metadata": {
        "id": "uEWVtPhepx6-"
      },
      "source": [
        "import numpy as np"
      ],
      "execution_count": null,
      "outputs": []
    },
    {
      "cell_type": "code",
      "metadata": {
        "id": "uLjEbocJptwt"
      },
      "source": [
        "a=np.random.random(size=(30,30,3))\n",
        "b=np.random.random(size=(30,30,3))"
      ],
      "execution_count": null,
      "outputs": []
    },
    {
      "cell_type": "code",
      "metadata": {
        "id": "I7yf7LASqNEz"
      },
      "source": [
        "x=np.mean((a-b)**2)"
      ],
      "execution_count": null,
      "outputs": []
    },
    {
      "cell_type": "code",
      "metadata": {
        "colab": {
          "base_uri": "https://localhost:8080/"
        },
        "id": "zR9mOQ8wqRcy",
        "outputId": "a0b892cd-171d-420e-a82a-340c738705c2"
      },
      "source": [
        "x"
      ],
      "execution_count": null,
      "outputs": [
        {
          "output_type": "execute_result",
          "data": {
            "text/plain": [
              "0.1629940217186788"
            ]
          },
          "metadata": {
            "tags": []
          },
          "execution_count": 13
        }
      ]
    },
    {
      "cell_type": "code",
      "metadata": {
        "id": "nOoN5KlMqSEf"
      },
      "source": [
        "images=X_train\n",
        "decoded=model.predict(images)"
      ],
      "execution_count": null,
      "outputs": []
    },
    {
      "cell_type": "code",
      "metadata": {
        "id": "KAulYdxit3mT"
      },
      "source": [
        "errors = []\n",
        "for (image, recon) in zip(images, decoded):\n",
        "\t# compute the mean squared error between the ground-truth image\n",
        "\t# and the reconstructed image, then add it to our list of errors\n",
        "\tmse = np.mean((image - recon) ** 2)\n",
        "\terrors.append(mse)"
      ],
      "execution_count": null,
      "outputs": []
    },
    {
      "cell_type": "code",
      "metadata": {
        "id": "65p0Es9TuDLZ"
      },
      "source": [
        "errors"
      ],
      "execution_count": null,
      "outputs": []
    },
    {
      "cell_type": "code",
      "metadata": {
        "id": "QkK-pHQluEX6"
      },
      "source": [
        "thresh = np.quantile(errors,0.8)\n",
        "thresh=45"
      ],
      "execution_count": null,
      "outputs": []
    },
    {
      "cell_type": "code",
      "metadata": {
        "colab": {
          "base_uri": "https://localhost:8080/"
        },
        "id": "Oz_099Z-v4gw",
        "outputId": "5a1898b1-87e4-43b9-e1d5-fa83210fd6a0"
      },
      "source": [
        "\n",
        "idxs = np.where(np.array(errors) >= thresh)[0]\n",
        "print(\"[INFO] mse threshold: {}\".format(thresh))\n",
        "print(\"[INFO] {} outliers found\".format(len(idxs)))"
      ],
      "execution_count": null,
      "outputs": [
        {
          "output_type": "stream",
          "text": [
            "[INFO] mse threshold: 45\n",
            "[INFO] 17 outliers found\n"
          ],
          "name": "stdout"
        }
      ]
    },
    {
      "cell_type": "code",
      "metadata": {
        "id": "nHaN4BqZwGog"
      },
      "source": [
        "id=np.where(np.array(y_test)==1)"
      ],
      "execution_count": null,
      "outputs": []
    },
    {
      "cell_type": "code",
      "metadata": {
        "colab": {
          "base_uri": "https://localhost:8080/"
        },
        "id": "-g1gwjjQxDQc",
        "outputId": "5cdbf3b3-5711-4ce3-f2e0-d9d3a9bb0290"
      },
      "source": [
        "np.shape(id)"
      ],
      "execution_count": null,
      "outputs": [
        {
          "output_type": "execute_result",
          "data": {
            "text/plain": [
              "(1, 200)"
            ]
          },
          "metadata": {
            "tags": []
          },
          "execution_count": 52
        }
      ]
    },
    {
      "cell_type": "code",
      "metadata": {
        "colab": {
          "base_uri": "https://localhost:8080/"
        },
        "id": "dK9RqTGCxD5-",
        "outputId": "66e8bd93-cce6-4100-a538-9c0b92df9770"
      },
      "source": [
        "id==idxs"
      ],
      "execution_count": null,
      "outputs": [
        {
          "output_type": "stream",
          "text": [
            "/usr/local/lib/python3.6/dist-packages/ipykernel_launcher.py:1: DeprecationWarning: elementwise comparison failed; this will raise an error in the future.\n",
            "  \"\"\"Entry point for launching an IPython kernel.\n"
          ],
          "name": "stderr"
        },
        {
          "output_type": "execute_result",
          "data": {
            "text/plain": [
              "False"
            ]
          },
          "metadata": {
            "tags": []
          },
          "execution_count": 53
        }
      ]
    },
    {
      "cell_type": "code",
      "metadata": {
        "colab": {
          "base_uri": "https://localhost:8080/"
        },
        "id": "GVLhS7KhxOaO",
        "outputId": "eb2fd4b0-cc5c-4ce5-f81d-842df924c78c"
      },
      "source": [
        "id"
      ],
      "execution_count": null,
      "outputs": [
        {
          "output_type": "execute_result",
          "data": {
            "text/plain": [
              "(array([  0,   1,   2,   3,   4,   5,   6,   7,   8,   9,  10,  11,  13,\n",
              "         16,  21,  25,  26,  28,  30,  33,  35,  36,  40,  41,  42,  43,\n",
              "         47,  49,  51,  52,  53,  54,  55,  57,  59,  61,  62,  65,  66,\n",
              "         68,  69,  71,  73,  75,  77,  79,  80,  82,  83,  84,  86,  87,\n",
              "         88,  89,  90,  91,  92,  93,  94,  98,  99, 100, 103, 104, 106,\n",
              "        108, 109, 110, 111, 114, 115, 116, 117, 119, 120, 121, 122, 123,\n",
              "        124, 125, 126, 127, 128, 129, 131, 134, 137, 138, 139, 140, 143,\n",
              "        144, 145, 146, 147, 148, 149, 150, 151, 152, 154, 155, 156, 157,\n",
              "        158, 160, 165, 167, 168, 169, 172, 174, 176, 177, 179, 180, 183,\n",
              "        184, 186, 187, 189, 190, 191, 192, 193, 196, 197, 199, 201, 203,\n",
              "        206, 207, 209, 211, 213, 214, 215, 216, 219, 220, 221, 222, 224,\n",
              "        225, 227, 228, 231, 232, 233, 236, 237, 238, 239, 241, 242, 243,\n",
              "        245, 247, 248, 250, 252, 253, 254, 259, 260, 261, 262, 263, 266,\n",
              "        267, 268, 269, 270, 271, 272, 274, 275, 276, 277, 278, 279, 282,\n",
              "        286, 287, 288, 290, 291, 294, 295, 296, 298, 299, 300, 305, 306,\n",
              "        307, 311, 312, 313, 314]),)"
            ]
          },
          "metadata": {
            "tags": []
          },
          "execution_count": 54
        }
      ]
    },
    {
      "cell_type": "code",
      "metadata": {
        "colab": {
          "base_uri": "https://localhost:8080/"
        },
        "id": "HHdGvtZexUM1",
        "outputId": "5dce2427-b5de-44cf-8396-76339b9dc5c8"
      },
      "source": [
        "idxs"
      ],
      "execution_count": null,
      "outputs": [
        {
          "output_type": "execute_result",
          "data": {
            "text/plain": [
              "array([  0,   1,   6,   7,  12,  14,  19,  21,  30,  36,  40,  46,  51,\n",
              "        62,  63,  66,  73,  79,  84,  93, 106, 111, 114, 119, 125, 126,\n",
              "       133, 142, 169, 172, 175, 185, 189, 190, 192, 206, 219, 225, 245,\n",
              "       256, 269, 274, 278, 279, 285, 288, 289, 292, 303, 305, 324, 326,\n",
              "       328, 331, 339, 342, 344, 349, 360, 364, 372, 375, 377, 380, 381,\n",
              "       384, 389, 394, 405, 407, 414, 415, 417, 418, 423, 435, 444, 447,\n",
              "       450, 453, 456, 457, 459, 472, 477, 479, 481, 482, 483, 490, 495,\n",
              "       498, 501, 503, 504, 506, 508, 515, 516, 518, 524, 533, 534, 537,\n",
              "       542, 548, 557, 558, 560, 564, 565, 568, 570, 575, 576, 579, 585,\n",
              "       587, 600, 618, 620, 625, 627, 628, 629, 631, 632, 634, 642, 644,\n",
              "       652, 654, 657, 661, 666, 668, 679, 680, 681, 682, 683, 685, 686,\n",
              "       689, 692, 693, 696, 702, 727, 733, 734, 739, 743, 745, 747, 749,\n",
              "       755, 761, 762, 763, 769, 773, 775, 778, 783, 790, 791, 797, 799,\n",
              "       823, 833, 835, 836, 837, 849, 858, 865, 866, 871, 873, 880, 884,\n",
              "       892, 893, 894, 906, 912, 925, 926])"
            ]
          },
          "metadata": {
            "tags": []
          },
          "execution_count": 55
        }
      ]
    },
    {
      "cell_type": "code",
      "metadata": {
        "id": "GaymRdnNxVPs"
      },
      "source": [
        ""
      ],
      "execution_count": null,
      "outputs": []
    }
  ]
}