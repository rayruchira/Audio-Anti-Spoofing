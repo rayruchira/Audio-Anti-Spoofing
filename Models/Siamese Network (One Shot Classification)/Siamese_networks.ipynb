{
  "nbformat": 4,
  "nbformat_minor": 0,
  "metadata": {
    "accelerator": "GPU",
    "colab": {
      "name": "Siamese-networks-medium.ipynb",
      "provenance": []
    },
    "hide_input": false,
    "kernelspec": {
      "display_name": "Python 3",
      "language": "python",
      "name": "python3"
    },
    "language_info": {
      "codemirror_mode": {
        "name": "ipython",
        "version": 3
      },
      "file_extension": ".py",
      "mimetype": "text/x-python",
      "name": "python",
      "nbconvert_exporter": "python",
      "pygments_lexer": "ipython3",
      "version": "3.7.1"
    }
  },
  "cells": [
    {
      "cell_type": "markdown",
      "metadata": {
        "id": "x9t9dOxvLJyO"
      },
      "source": [
        "# One Shot Learning with Siamese Networks\n",
        "\n",
        "\n"
      ]
    },
    {
      "cell_type": "code",
      "metadata": {
        "id": "PO2k_6uqLvjO"
      },
      "source": [
        "from google.colab import drive\n",
        "drive.mount('/content/drive')"
      ],
      "execution_count": null,
      "outputs": []
    },
    {
      "cell_type": "markdown",
      "metadata": {
        "id": "rpZxTGUQLJyg"
      },
      "source": [
        "## Imports\n",
        "All the imports are defined here"
      ]
    },
    {
      "cell_type": "code",
      "metadata": {
        "id": "7T8MYaOZLJyj"
      },
      "source": [
        "%matplotlib inline\n",
        "import torchvision\n",
        "import torchvision.datasets as dset\n",
        "import torchvision.transforms as transforms\n",
        "from torch.utils.data import DataLoader,Dataset\n",
        "import matplotlib.pyplot as plt\n",
        "import torchvision.utils\n",
        "import numpy as np\n",
        "import random\n",
        "from PIL import Image\n",
        "import torch\n",
        "from torch.autograd import Variable\n",
        "import PIL.ImageOps    \n",
        "import torch.nn as nn\n",
        "from torch import optim\n",
        "import torch.nn.functional as F"
      ],
      "execution_count": null,
      "outputs": []
    },
    {
      "cell_type": "markdown",
      "metadata": {
        "id": "pm8HtMFFLJyk"
      },
      "source": [
        "## Helper functions\n",
        "Set of helper functions"
      ]
    },
    {
      "cell_type": "code",
      "metadata": {
        "id": "GjZnQw0CLJyl"
      },
      "source": [
        "def imshow(img,text=None,should_save=False):\n",
        "    npimg = img.numpy()\n",
        "    plt.axis(\"off\")\n",
        "    if text:\n",
        "        plt.text(75, 8, text, style='italic',fontweight='bold',\n",
        "            bbox={'facecolor':'white', 'alpha':0.8, 'pad':10})\n",
        "    plt.imshow(np.transpose(npimg, (1, 2, 0)))\n",
        "    plt.show()    \n",
        "\n",
        "def show_plot(iteration,loss):\n",
        "    plt.plot(iteration,loss)\n",
        "    plt.show()"
      ],
      "execution_count": null,
      "outputs": []
    },
    {
      "cell_type": "markdown",
      "metadata": {
        "id": "0lNC_UIILJym"
      },
      "source": [
        "## Configuration Class\n",
        "A simple class to manage configuration"
      ]
    },
    {
      "cell_type": "code",
      "metadata": {
        "id": "T1MKnA_1LJyn"
      },
      "source": [
        "class Config():\n",
        "    training_dir = \"/content/drive/MyDrive/ASVspoof2019-master.zip (Unzipped Files)/img_data/\"\n",
        "    testing_dir = \"./data/faces/testing/\"\n",
        "    train_batch_size = 64\n",
        "    train_number_epochs = 100"
      ],
      "execution_count": null,
      "outputs": []
    },
    {
      "cell_type": "markdown",
      "metadata": {
        "id": "8Q2oTJjoLJyo"
      },
      "source": [
        "## Custom Dataset Class\n",
        "This dataset generates a pair of images. 0 for geniune pair and 1 for imposter pair"
      ]
    },
    {
      "cell_type": "code",
      "metadata": {
        "id": "E2U6cuSeLJyo"
      },
      "source": [
        "class SiameseNetworkDataset(Dataset):\n",
        "    \n",
        "    def __init__(self,imageFolderDataset,transform=None,should_invert=True):\n",
        "        self.imageFolderDataset = imageFolderDataset    \n",
        "        self.transform = transform\n",
        "        self.should_invert = should_invert\n",
        "        \n",
        "    def __getitem__(self,index):\n",
        "        img0_tuple = random.choice(self.imageFolderDataset.imgs)\n",
        "        #we need to make sure approx 50% of images are in the same class\n",
        "        should_get_same_class = random.randint(0,1) \n",
        "        if should_get_same_class:\n",
        "            while True:\n",
        "                #keep looping till the same class image is found\n",
        "                img1_tuple = random.choice(self.imageFolderDataset.imgs) \n",
        "                if img0_tuple[1]==img1_tuple[1]:\n",
        "                    break\n",
        "        else:\n",
        "            while True:\n",
        "                #keep looping till a different class image is found\n",
        "                \n",
        "                img1_tuple = random.choice(self.imageFolderDataset.imgs) \n",
        "                if img0_tuple[1] !=img1_tuple[1]:\n",
        "                    break\n",
        "\n",
        "        img0 = Image.open(img0_tuple[0])\n",
        "        img1 = Image.open(img1_tuple[0])\n",
        "        img0 = img0.convert(\"L\")\n",
        "        img1 = img1.convert(\"L\")\n",
        "        \n",
        "        if self.should_invert:\n",
        "            img0 = PIL.ImageOps.invert(img0)\n",
        "            img1 = PIL.ImageOps.invert(img1)\n",
        "\n",
        "        if self.transform is not None:\n",
        "            img0 = self.transform(img0)\n",
        "            img1 = self.transform(img1)\n",
        "        \n",
        "        return img0, img1 , torch.from_numpy(np.array([int(img1_tuple[1]!=img0_tuple[1])],dtype=np.float32))\n",
        "    \n",
        "    def __len__(self):\n",
        "        return len(self.imageFolderDataset.imgs)"
      ],
      "execution_count": null,
      "outputs": []
    },
    {
      "cell_type": "markdown",
      "metadata": {
        "id": "M1o7zWfGLJyp"
      },
      "source": [
        "## Using Image Folder Dataset"
      ]
    },
    {
      "cell_type": "code",
      "metadata": {
        "id": "OQhhGqv5LJyq"
      },
      "source": [
        "folder_dataset = dset.ImageFolder(root=Config.training_dir)"
      ],
      "execution_count": null,
      "outputs": []
    },
    {
      "cell_type": "code",
      "metadata": {
        "id": "8geFVcXQLJyr"
      },
      "source": [
        "siamese_dataset = SiameseNetworkDataset(imageFolderDataset=folder_dataset,\n",
        "                                        transform=transforms.Compose([transforms.Resize((100,100)),\n",
        "                                                                      transforms.ToTensor()\n",
        "                                                                      ])\n",
        "                                       ,should_invert=False)"
      ],
      "execution_count": null,
      "outputs": []
    },
    {
      "cell_type": "markdown",
      "metadata": {
        "id": "zEdeAsa4LJyr"
      },
      "source": [
        "## Visualising some of the data\n",
        "The top row and the bottom row of any column is one pair. The 0s and 1s correspond to the column of the image.\n",
        "1 indiciates dissimilar, and 0 indicates similar."
      ]
    },
    {
      "cell_type": "code",
      "metadata": {
        "colab": {
          "base_uri": "https://localhost:8080/",
          "height": 303
        },
        "id": "_UJDk9ZbLJys",
        "outputId": "45926556-85e9-4a96-914a-7f9543fd95b0"
      },
      "source": [
        "vis_dataloader = DataLoader(siamese_dataset,\n",
        "                        shuffle=True,\n",
        "                        num_workers=8,\n",
        "                        batch_size=8)\n",
        "dataiter = iter(vis_dataloader)\n",
        "\n",
        "\n",
        "example_batch = next(dataiter)\n",
        "concatenated = torch.cat((example_batch[0],example_batch[1]),0)\n",
        "imshow(torchvision.utils.make_grid(concatenated))\n",
        "print(example_batch[2].numpy())"
      ],
      "execution_count": null,
      "outputs": [
        {
          "output_type": "stream",
          "text": [
            "/usr/local/lib/python3.7/dist-packages/torch/utils/data/dataloader.py:477: UserWarning: This DataLoader will create 8 worker processes in total. Our suggested max number of worker in current system is 2, which is smaller than what this DataLoader is going to create. Please be aware that excessive worker creation might get DataLoader running slow or even freeze, lower the worker number to avoid potential slowness/freeze if necessary.\n",
            "  cpuset_checked))\n"
          ],
          "name": "stderr"
        },
        {
          "output_type": "display_data",
          "data": {
            "image/png": "[encoded data removed]",
            "text/plain": [
              "<Figure size 432x288 with 1 Axes>"
            ]
          },
          "metadata": {
            "tags": []
          }
        },
        {
          "output_type": "stream",
          "text": [
            "[[1.]\n",
            " [0.]\n",
            " [1.]\n",
            " [0.]\n",
            " [1.]\n",
            " [0.]\n",
            " [1.]\n",
            " [1.]]\n"
          ],
          "name": "stdout"
        }
      ]
    },
    {
      "cell_type": "markdown",
      "metadata": {
        "collapsed": true,
        "id": "CHa0_gCzLJyu"
      },
      "source": [
        "## Neural Net Definition\n",
        "Standard convolutional neural network"
      ]
    },
    {
      "cell_type": "code",
      "metadata": {
        "id": "7y15a63jLJyv"
      },
      "source": [
        "class SiameseNetwork(nn.Module):\n",
        "    def __init__(self):\n",
        "        super(SiameseNetwork, self).__init__()\n",
        "        self.cnn1 = nn.Sequential(\n",
        "            nn.ReflectionPad2d(1),\n",
        "            nn.Conv2d(1, 4, kernel_size=3),\n",
        "            nn.ReLU(inplace=True),\n",
        "            nn.BatchNorm2d(4),\n",
        "            \n",
        "            nn.ReflectionPad2d(1),\n",
        "            nn.Conv2d(4, 8, kernel_size=3),\n",
        "            nn.ReLU(inplace=True),\n",
        "            nn.BatchNorm2d(8),\n",
        "\n",
        "\n",
        "            nn.ReflectionPad2d(1),\n",
        "            nn.Conv2d(8, 8, kernel_size=3),\n",
        "            nn.ReLU(inplace=True),\n",
        "            nn.BatchNorm2d(8),\n",
        "\n",
        "\n",
        "        )\n",
        "\n",
        "        self.fc1 = nn.Sequential(\n",
        "            nn.Linear(8*100*100, 500),\n",
        "            nn.ReLU(inplace=True),\n",
        "\n",
        "            nn.Linear(500, 500),\n",
        "            nn.ReLU(inplace=True),\n",
        "\n",
        "            nn.Linear(500, 5))\n",
        "\n",
        "    def forward_once(self, x):\n",
        "        output = self.cnn1(x)\n",
        "        output = output.view(output.size()[0], -1)\n",
        "        output = self.fc1(output)\n",
        "        return output\n",
        "\n",
        "    def forward(self, input1, input2):\n",
        "        output1 = self.forward_once(input1)\n",
        "        output2 = self.forward_once(input2)\n",
        "        return output1, output2"
      ],
      "execution_count": null,
      "outputs": []
    },
    {
      "cell_type": "markdown",
      "metadata": {
        "id": "qlai5zzOLJyv"
      },
      "source": [
        "## Contrastive Loss"
      ]
    },
    {
      "cell_type": "code",
      "metadata": {
        "id": "ygD1RZONLJyw"
      },
      "source": [
        "class ContrastiveLoss(torch.nn.Module):\n",
        "    \"\"\"\n",
        "    Contrastive loss function.\n",
        "    Based on: http://yann.lecun.com/exdb/publis/pdf/hadsell-chopra-lecun-06.pdf\n",
        "    \"\"\"\n",
        "\n",
        "    def __init__(self, margin=2.0):\n",
        "        super(ContrastiveLoss, self).__init__()\n",
        "        self.margin = margin\n",
        "\n",
        "    def forward(self, output1, output2, label):\n",
        "        euclidean_distance = F.pairwise_distance(output1, output2, keepdim = True)\n",
        "        loss_contrastive = torch.mean((1-label) * torch.pow(euclidean_distance, 2) +\n",
        "                                      (label) * torch.pow(torch.clamp(self.margin - euclidean_distance, min=0.0), 2))\n",
        "\n",
        "\n",
        "        return loss_contrastive"
      ],
      "execution_count": null,
      "outputs": []
    },
    {
      "cell_type": "markdown",
      "metadata": {
        "id": "OHFVSKmJLJyw"
      },
      "source": [
        "## Training "
      ]
    },
    {
      "cell_type": "code",
      "metadata": {
        "colab": {
          "base_uri": "https://localhost:8080/"
        },
        "id": "KSWIGsCCLJyy",
        "outputId": "056c3e62-5528-4f99-8cf5-0edb9c43b0ba"
      },
      "source": [
        "train_dataloader = DataLoader(siamese_dataset,\n",
        "                        shuffle=True,\n",
        "                        num_workers=8,\n",
        "                        batch_size=Config.train_batch_size)"
      ],
      "execution_count": null,
      "outputs": [
        {
          "output_type": "stream",
          "text": [
            "/usr/local/lib/python3.7/dist-packages/torch/utils/data/dataloader.py:477: UserWarning: This DataLoader will create 8 worker processes in total. Our suggested max number of worker in current system is 2, which is smaller than what this DataLoader is going to create. Please be aware that excessive worker creation might get DataLoader running slow or even freeze, lower the worker number to avoid potential slowness/freeze if necessary.\n",
            "  cpuset_checked))\n"
          ],
          "name": "stderr"
        }
      ]
    },
    {
      "cell_type": "code",
      "metadata": {
        "id": "kLcZddcHLJyy"
      },
      "source": [
        "net = SiameseNetwork().cuda()\n",
        "criterion = ContrastiveLoss()\n",
        "optimizer = optim.Adam(net.parameters(),lr = 0.0005 )"
      ],
      "execution_count": null,
      "outputs": []
    },
    {
      "cell_type": "code",
      "metadata": {
        "id": "I-qCIKWvLJyy"
      },
      "source": [
        "counter = []\n",
        "loss_history = [] \n",
        "iteration_number= 0"
      ],
      "execution_count": null,
      "outputs": []
    },
    {
      "cell_type": "code",
      "metadata": {
        "colab": {
          "background_save": true,
          "base_uri": "https://localhost:8080/"
        },
        "id": "9NKY97iVLJyz",
        "scrolled": true,
        "outputId": "8d3414ca-e148-4dac-fe4b-f7ea8584cebe"
      },
      "source": [
        "for epoch in range(0,Config.train_number_epochs):\n",
        "    for i, data in enumerate(train_dataloader,0):\n",
        "        img0, img1 , label = data\n",
        "        img0, img1 , label = img0.cuda(), img1.cuda() , label.cuda()\n",
        "        optimizer.zero_grad()\n",
        "        output1,output2 = net(img0,img1)\n",
        "        loss_contrastive = criterion(output1,output2,label)\n",
        "        loss_contrastive.backward()\n",
        "        optimizer.step()\n",
        "        if i %10 == 0 :\n",
        "            print(\"Epoch number {}\\n Current loss {}\\n\".format(epoch,loss_contrastive.item()))\n",
        "            iteration_number +=10\n",
        "            counter.append(iteration_number)\n",
        "            loss_history.append(loss_contrastive.item())\n",
        "show_plot(counter,loss_history)"
      ],
      "execution_count": null,
      "outputs": [
        {
          "output_type": "stream",
          "text": [
            "/usr/local/lib/python3.7/dist-packages/torch/utils/data/dataloader.py:477: UserWarning: This DataLoader will create 8 worker processes in total. Our suggested max number of worker in current system is 2, which is smaller than what this DataLoader is going to create. Please be aware that excessive worker creation might get DataLoader running slow or even freeze, lower the worker number to avoid potential slowness/freeze if necessary.\n",
            "  cpuset_checked))\n"
          ],
          "name": "stderr"
        },
        {
          "output_type": "stream",
          "text": [
            "Epoch number 0\n",
            " Current loss 1.8052715063095093\n",
            "\n",
            "Epoch number 1\n",
            " Current loss 3.853266716003418\n",
            "\n",
            "Epoch number 2\n",
            " Current loss 0.972737193107605\n",
            "\n",
            "Epoch number 3\n",
            " Current loss 0.501446008682251\n",
            "\n",
            "Epoch number 4\n",
            " Current loss 0.40442442893981934\n",
            "\n",
            "Epoch number 5\n",
            " Current loss 0.3063623905181885\n",
            "\n",
            "Epoch number 6\n",
            " Current loss 0.17391517758369446\n",
            "\n",
            "Epoch number 7\n",
            " Current loss 0.10976827144622803\n",
            "\n",
            "Epoch number 8\n",
            " Current loss 0.090520940721035\n",
            "\n",
            "Epoch number 9\n",
            " Current loss 0.05698570981621742\n",
            "\n",
            "Epoch number 10\n",
            " Current loss 0.051091939210891724\n",
            "\n",
            "Epoch number 11\n",
            " Current loss 0.034750327467918396\n",
            "\n",
            "Epoch number 12\n",
            " Current loss 0.02406246028840542\n",
            "\n",
            "Epoch number 13\n",
            " Current loss 0.013169713318347931\n",
            "\n",
            "Epoch number 14\n",
            " Current loss 0.019653325900435448\n",
            "\n",
            "Epoch number 15\n",
            " Current loss 0.024909118190407753\n",
            "\n",
            "Epoch number 16\n",
            " Current loss 0.02057287096977234\n",
            "\n",
            "Epoch number 17\n",
            " Current loss 0.015272380784153938\n",
            "\n",
            "Epoch number 18\n",
            " Current loss 0.011677801609039307\n",
            "\n",
            "Epoch number 19\n",
            " Current loss 0.033861950039863586\n",
            "\n",
            "Epoch number 20\n",
            " Current loss 0.009869396686553955\n",
            "\n",
            "Epoch number 21\n",
            " Current loss 0.008616101928055286\n",
            "\n",
            "Epoch number 22\n",
            " Current loss 0.013604376465082169\n",
            "\n",
            "Epoch number 23\n",
            " Current loss 0.008165750652551651\n",
            "\n",
            "Epoch number 24\n",
            " Current loss 0.012187489308416843\n",
            "\n",
            "Epoch number 25\n",
            " Current loss 0.03486252948641777\n",
            "\n",
            "Epoch number 26\n",
            " Current loss 0.0049583446234464645\n",
            "\n",
            "Epoch number 27\n",
            " Current loss 0.019355060532689095\n",
            "\n",
            "Epoch number 28\n",
            " Current loss 0.033185943961143494\n",
            "\n",
            "Epoch number 29\n",
            " Current loss 0.008011617697775364\n",
            "\n",
            "Epoch number 30\n",
            " Current loss 0.00478341244161129\n",
            "\n",
            "Epoch number 31\n",
            " Current loss 0.00487824622541666\n",
            "\n",
            "Epoch number 32\n",
            " Current loss 0.004587647970765829\n",
            "\n",
            "Epoch number 33\n",
            " Current loss 0.0030090066138654947\n",
            "\n",
            "Epoch number 34\n",
            " Current loss 0.0032584841828793287\n",
            "\n",
            "Epoch number 35\n",
            " Current loss 0.0016437871381640434\n",
            "\n",
            "Epoch number 36\n",
            " Current loss 0.005535942502319813\n",
            "\n",
            "Epoch number 37\n",
            " Current loss 0.002020598854869604\n",
            "\n",
            "Epoch number 38\n",
            " Current loss 0.0027284901589155197\n",
            "\n",
            "Epoch number 39\n",
            " Current loss 0.002148172352463007\n",
            "\n",
            "Epoch number 40\n",
            " Current loss 0.0021662970539182425\n",
            "\n",
            "Epoch number 41\n",
            " Current loss 0.0017727561062201858\n",
            "\n",
            "Epoch number 42\n",
            " Current loss 0.0013744635507464409\n",
            "\n",
            "Epoch number 43\n",
            " Current loss 0.001717621460556984\n",
            "\n",
            "Epoch number 44\n",
            " Current loss 0.0006589799886569381\n",
            "\n",
            "Epoch number 45\n",
            " Current loss 0.0024550389498472214\n",
            "\n",
            "Epoch number 46\n",
            " Current loss 0.0007201319094747305\n",
            "\n",
            "Epoch number 47\n",
            " Current loss 0.0009890056680887938\n",
            "\n",
            "Epoch number 48\n",
            " Current loss 0.0010842004558071494\n",
            "\n",
            "Epoch number 49\n",
            " Current loss 0.0009447966003790498\n",
            "\n",
            "Epoch number 50\n",
            " Current loss 0.0008876301581040025\n",
            "\n",
            "Epoch number 51\n",
            " Current loss 0.0011349903652444482\n",
            "\n",
            "Epoch number 52\n",
            " Current loss 0.0010860571637749672\n",
            "\n",
            "Epoch number 53\n",
            " Current loss 0.0010407769586890936\n",
            "\n",
            "Epoch number 54\n",
            " Current loss 0.0010273163206875324\n",
            "\n",
            "Epoch number 55\n",
            " Current loss 0.001318861497566104\n",
            "\n",
            "Epoch number 56\n",
            " Current loss 0.0009516563732177019\n",
            "\n",
            "Epoch number 57\n",
            " Current loss 0.0017846794798970222\n",
            "\n",
            "Epoch number 58\n",
            " Current loss 0.0009023364400491118\n",
            "\n",
            "Epoch number 59\n",
            " Current loss 0.0015953162219375372\n",
            "\n",
            "Epoch number 60\n",
            " Current loss 0.0011214877013117075\n",
            "\n",
            "Epoch number 61\n",
            " Current loss 0.0011200187727808952\n",
            "\n",
            "Epoch number 62\n",
            " Current loss 0.001543336664326489\n",
            "\n",
            "Epoch number 63\n",
            " Current loss 0.0033812453038990498\n",
            "\n",
            "Epoch number 64\n",
            " Current loss 0.0013355354312807322\n",
            "\n",
            "Epoch number 65\n",
            " Current loss 0.0012912185629829764\n",
            "\n",
            "Epoch number 66\n",
            " Current loss 0.0012054744875058532\n",
            "\n",
            "Epoch number 67\n",
            " Current loss 0.001978873275220394\n",
            "\n",
            "Epoch number 68\n",
            " Current loss 0.002788953948765993\n",
            "\n",
            "Epoch number 69\n",
            " Current loss 0.002145182341337204\n",
            "\n",
            "Epoch number 70\n",
            " Current loss 0.0023050650488585234\n",
            "\n",
            "Epoch number 71\n",
            " Current loss 0.0019579262007027864\n",
            "\n",
            "Epoch number 72\n",
            " Current loss 0.0019302982836961746\n",
            "\n",
            "Epoch number 73\n",
            " Current loss 0.0032692733220756054\n",
            "\n",
            "Epoch number 74\n",
            " Current loss 0.0023438860662281513\n",
            "\n",
            "Epoch number 75\n",
            " Current loss 0.0011479428503662348\n",
            "\n",
            "Epoch number 76\n",
            " Current loss 0.002079182071611285\n",
            "\n",
            "Epoch number 77\n",
            " Current loss 0.002277516759932041\n",
            "\n",
            "Epoch number 78\n",
            " Current loss 0.00216269469819963\n",
            "\n",
            "Epoch number 79\n",
            " Current loss 0.007658337242901325\n",
            "\n",
            "Epoch number 80\n",
            " Current loss 0.013641992583870888\n",
            "\n",
            "Epoch number 81\n",
            " Current loss 0.019099758937954903\n",
            "\n",
            "Epoch number 82\n",
            " Current loss 0.004812346305698156\n",
            "\n",
            "Epoch number 83\n",
            " Current loss 0.003908295184373856\n",
            "\n",
            "Epoch number 84\n",
            " Current loss 0.01916845701634884\n",
            "\n",
            "Epoch number 85\n",
            " Current loss 0.004822924733161926\n",
            "\n",
            "Epoch number 86\n",
            " Current loss 0.0037004866171628237\n",
            "\n",
            "Epoch number 87\n",
            " Current loss 0.0048142727464437485\n",
            "\n",
            "Epoch number 88\n",
            " Current loss 0.0051861535757780075\n",
            "\n",
            "Epoch number 89\n",
            " Current loss 0.006924426183104515\n",
            "\n",
            "Epoch number 90\n",
            " Current loss 0.0028010220266878605\n",
            "\n",
            "Epoch number 91\n",
            " Current loss 0.004951211623847485\n",
            "\n",
            "Epoch number 92\n",
            " Current loss 0.00483390036970377\n",
            "\n",
            "Epoch number 93\n",
            " Current loss 0.0035551961045712233\n",
            "\n",
            "Epoch number 94\n",
            " Current loss 0.02812761440873146\n",
            "\n",
            "Epoch number 95\n",
            " Current loss 0.0020353454165160656\n",
            "\n",
            "Epoch number 96\n",
            " Current loss 0.0070882560685276985\n",
            "\n",
            "Epoch number 97\n",
            " Current loss 0.004299373831599951\n",
            "\n",
            "Epoch number 98\n",
            " Current loss 0.0022110682912170887\n",
            "\n",
            "Epoch number 99\n",
            " Current loss 0.0020808461122214794\n",
            "\n"
          ],
          "name": "stdout"
        },
        {
          "output_type": "display_data",
          "data": {
            "image/png": "[encoded data removed]",
            "text/plain": [
              "<Figure size 432x288 with 1 Axes>"
            ]
          },
          "metadata": {
            "tags": []
          }
        }
      ]
    },
    {
      "cell_type": "markdown",
      "metadata": {
        "id": "fwgV934qLJy0"
      },
      "source": [
        "## Some simple testing\n"
      ]
    },
    {
      "cell_type": "code",
      "metadata": {
        "id": "3_0pr9arLJy0",
        "scrolled": false
      },
      "source": [
        "folder_dataset_test = dset.ImageFolder(root=Config.testing_dir)\n",
        "siamese_dataset = SiameseNetworkDataset(imageFolderDataset=folder_dataset_test,\n",
        "                                        transform=transforms.Compose([transforms.Resize((100,100)),\n",
        "                                                                      transforms.ToTensor()\n",
        "                                                                      ])\n",
        "                                       ,should_invert=False)\n",
        "\n",
        "test_dataloader = DataLoader(siamese_dataset,num_workers=6,batch_size=1,shuffle=True)\n",
        "dataiter = iter(test_dataloader)\n",
        "x0,_,_ = next(dataiter)\n",
        "\n",
        "for i in range(10):\n",
        "    _,x1,label2 = next(dataiter)\n",
        "    concatenated = torch.cat((x0,x1),0)\n",
        "    \n",
        "    output1,output2 = net(Variable(x0).cuda(),Variable(x1).cuda())\n",
        "    euclidean_distance = F.pairwise_distance(output1, output2)\n",
        "    imshow(torchvision.utils.make_grid(concatenated),'Dissimilarity: {:.2f}'.format(euclidean_distance.item()))\n",
        "\n"
      ],
      "execution_count": null,
      "outputs": []
    },
    {
      "cell_type": "code",
      "metadata": {
        "id": "p_vj3FeuLJy1"
      },
      "source": [
        ""
      ],
      "execution_count": null,
      "outputs": []
    },
    {
      "cell_type": "code",
      "metadata": {
        "id": "3w3zBx6GLJy1"
      },
      "source": [
        ""
      ],
      "execution_count": null,
      "outputs": []
    },
    {
      "cell_type": "code",
      "metadata": {
        "id": "GtHNJkzQLJy2"
      },
      "source": [
        ""
      ],
      "execution_count": null,
      "outputs": []
    },
    {
      "cell_type": "code",
      "metadata": {
        "id": "xIbEqJKjLJy2"
      },
      "source": [
        ""
      ],
      "execution_count": null,
      "outputs": []
    }
  ]
}
